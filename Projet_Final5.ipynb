{
 "cells": [
  {
   "cell_type": "markdown",
   "id": "7ba68f8a",
   "metadata": {},
   "source": [
    "## Importation des packages"
   ]
  },
  {
   "cell_type": "code",
   "execution_count": null,
   "id": "7e244304",
   "metadata": {},
   "outputs": [],
   "source": [
    "import pandas as pd\n",
    "import numpy as np\n",
    "import seaborn as sns\n",
    "from scipy import stats\n",
    "from ydata_profiling import ProfileReport\n",
    "import missingno as msno #msno.matrix(df)\n",
    "import matplotlib.pyplot as plt\n",
    "from bs4 import BeautifulSoup\n",
    "import requests\n",
    "from tqdm.notebook import tqdm\n",
    "from sklearn.ensemble import RandomForestClassifier\n",
    "from sklearn.ensemble import RandomForestRegressor\n",
    "from sklearn.model_selection import train_test_split, GridSearchCV\n",
    "from sklearn.metrics import accuracy_score\n",
    "from sklearn.metrics import mean_squared_error, r2_score\n",
    "from sklearn.feature_selection import SelectFromModel\n",
    "import pygwalker as pyg"
   ]
  },
  {
   "cell_type": "markdown",
   "id": "501a683e",
   "metadata": {},
   "source": [
    "## Importation des fichiers CSV"
   ]
  },
  {
   "cell_type": "code",
   "execution_count": null,
   "id": "291f6576",
   "metadata": {},
   "outputs": [],
   "source": [
    "edl_es = pd.read_csv(r\"C:\\Users\\thiba\\Documents\\Projet_Final\\Fichier CSV\\EDL Entrant avec EDL sortant corresp Constat.csv\", sep=';')\n",
    "edl_patrimoine = pd.read_csv(r\"C:\\Users\\thiba\\Documents\\Projet_Final\\Fichier CSV\\EDL_0 Sortants_Patrimoines_Locataires.csv\", sep=';', low_memory=False)\n",
    "edl_sollicitation = pd.read_csv(r\"C:\\Users\\thiba\\Documents\\Projet_Final\\Fichier CSV\\EDL_1 Sollicitations GRC.csv\", sep=';')\n",
    "edl_enquete = pd.read_csv(r\"C:\\Users\\thiba\\Documents\\Projet_Final\\Fichier CSV\\EDL_3 Frais Non-Rep Enquetes.csv\", sep=';')\n",
    "edl_ost = pd.read_csv(r\"C:\\Users\\thiba\\Documents\\Projet_Final\\Fichier CSV\\EDL_4 Labels OST Non Valeur.csv\", sep=';')\n",
    "edl_travaux = pd.read_csv(r\"C:\\Users\\thiba\\Documents\\Projet_Final\\Fichier CSV\\EDL_Nb contrats_ Mt Factures Travaux - V2.csv\", sep=';')"
   ]
  },
  {
   "cell_type": "markdown",
   "id": "f7ca93fd",
   "metadata": {
    "jp-MarkdownHeadingCollapsed": true
   },
   "source": [
    "# EDA"
   ]
  },
  {
   "cell_type": "markdown",
   "id": "544aa828",
   "metadata": {
    "jp-MarkdownHeadingCollapsed": true
   },
   "source": [
    "## EDL_ES = Etat des lieux Entrant Sortant"
   ]
  },
  {
   "cell_type": "code",
   "execution_count": null,
   "id": "9cd4b088",
   "metadata": {},
   "outputs": [],
   "source": [
    "edl_es"
   ]
  },
  {
   "cell_type": "markdown",
   "id": "53ff0acc",
   "metadata": {},
   "source": [
    "dimension du DataFrame:"
   ]
  },
  {
   "cell_type": "code",
   "execution_count": null,
   "id": "f54a81f8",
   "metadata": {},
   "outputs": [],
   "source": [
    "edl_es.shape"
   ]
  },
  {
   "cell_type": "markdown",
   "id": "e7639c26",
   "metadata": {},
   "source": [
    "type des colonnes:"
   ]
  },
  {
   "cell_type": "code",
   "execution_count": null,
   "id": "052f7044",
   "metadata": {},
   "outputs": [],
   "source": [
    "edl_es.info()"
   ]
  },
  {
   "cell_type": "markdown",
   "id": "2f388365",
   "metadata": {},
   "source": [
    "nombre de valeurs manquante:"
   ]
  },
  {
   "cell_type": "code",
   "execution_count": null,
   "id": "9c70b29e",
   "metadata": {},
   "outputs": [],
   "source": [
    "edl_es.isna().sum()"
   ]
  },
  {
   "cell_type": "markdown",
   "id": "ee04a416",
   "metadata": {},
   "source": [
    "affichage graphique des valeurs manquantes:"
   ]
  },
  {
   "cell_type": "code",
   "execution_count": null,
   "id": "9466a44e",
   "metadata": {},
   "outputs": [],
   "source": [
    "msno.matrix(edl_es)"
   ]
  },
  {
   "cell_type": "markdown",
   "id": "69bcd3a0",
   "metadata": {
    "jp-MarkdownHeadingCollapsed": true
   },
   "source": [
    "## EDL_patrimoine = Patrimoines des locataires sortant"
   ]
  },
  {
   "cell_type": "code",
   "execution_count": null,
   "id": "69acf55c",
   "metadata": {},
   "outputs": [],
   "source": [
    "edl_patrimoine"
   ]
  },
  {
   "cell_type": "markdown",
   "id": "6967de01",
   "metadata": {},
   "source": [
    "dimension du DataFrame:"
   ]
  },
  {
   "cell_type": "code",
   "execution_count": null,
   "id": "6f99235b",
   "metadata": {},
   "outputs": [],
   "source": [
    "edl_patrimoine.shape"
   ]
  },
  {
   "cell_type": "markdown",
   "id": "66e98a3b",
   "metadata": {},
   "source": [
    "nombre de valeurs manquantes"
   ]
  },
  {
   "cell_type": "code",
   "execution_count": null,
   "id": "55635668",
   "metadata": {},
   "outputs": [],
   "source": [
    "edl_patrimoine.isna().sum()"
   ]
  },
  {
   "cell_type": "markdown",
   "id": "7e209cdf",
   "metadata": {},
   "source": [
    "type de colonnes:"
   ]
  },
  {
   "cell_type": "code",
   "execution_count": null,
   "id": "ccf9de3b",
   "metadata": {},
   "outputs": [],
   "source": [
    "edl_patrimoine.info()"
   ]
  },
  {
   "cell_type": "markdown",
   "id": "cd6b4172",
   "metadata": {},
   "source": [
    "affichage graphique des valeurs manquantes "
   ]
  },
  {
   "cell_type": "code",
   "execution_count": null,
   "id": "4022e5c7",
   "metadata": {},
   "outputs": [],
   "source": [
    "msno.matrix(edl_patrimoine)"
   ]
  },
  {
   "cell_type": "markdown",
   "id": "086d944f",
   "metadata": {
    "jp-MarkdownHeadingCollapsed": true
   },
   "source": [
    "## EDL_sollicitation = description des travaux/entretiens pour un logement, demander par le locataire "
   ]
  },
  {
   "cell_type": "code",
   "execution_count": null,
   "id": "3b6ddc02",
   "metadata": {},
   "outputs": [],
   "source": [
    "edl_sollicitation"
   ]
  },
  {
   "cell_type": "markdown",
   "id": "4c2bef2b",
   "metadata": {},
   "source": [
    "dimension du DataFrame:"
   ]
  },
  {
   "cell_type": "code",
   "execution_count": null,
   "id": "b01f91b5",
   "metadata": {},
   "outputs": [],
   "source": [
    "edl_sollicitation.shape"
   ]
  },
  {
   "cell_type": "markdown",
   "id": "00290d9c",
   "metadata": {},
   "source": [
    "type des colonnes:"
   ]
  },
  {
   "cell_type": "code",
   "execution_count": null,
   "id": "1900fc8f",
   "metadata": {},
   "outputs": [],
   "source": [
    "edl_sollicitation.info()"
   ]
  },
  {
   "cell_type": "markdown",
   "id": "4f0377c5",
   "metadata": {},
   "source": [
    "affichage des valeurs manquantes:"
   ]
  },
  {
   "cell_type": "code",
   "execution_count": null,
   "id": "85e2c5b5",
   "metadata": {},
   "outputs": [],
   "source": [
    "edl_sollicitation.isna().sum()"
   ]
  },
  {
   "cell_type": "markdown",
   "id": "d62a8786",
   "metadata": {},
   "source": [
    "affichage graphique des valeurs manquantes:"
   ]
  },
  {
   "cell_type": "code",
   "execution_count": null,
   "id": "f850650e",
   "metadata": {},
   "outputs": [],
   "source": [
    "msno.matrix(edl_sollicitation)"
   ]
  },
  {
   "cell_type": "markdown",
   "id": "8810f06a",
   "metadata": {},
   "source": [
    "## EDL_enquete = frais de non reponses aux enquetes "
   ]
  },
  {
   "cell_type": "code",
   "execution_count": null,
   "id": "55b773f3",
   "metadata": {},
   "outputs": [],
   "source": [
    "edl_enquete"
   ]
  },
  {
   "cell_type": "markdown",
   "id": "a010129f",
   "metadata": {},
   "source": [
    "dimension du DataFrame:"
   ]
  },
  {
   "cell_type": "code",
   "execution_count": null,
   "id": "62410141",
   "metadata": {},
   "outputs": [],
   "source": [
    "edl_enquete.shape"
   ]
  },
  {
   "cell_type": "markdown",
   "id": "cff4993c",
   "metadata": {},
   "source": [
    "type des colonnes:"
   ]
  },
  {
   "cell_type": "code",
   "execution_count": null,
   "id": "e8da814d",
   "metadata": {},
   "outputs": [],
   "source": [
    "edl_enquete.info()"
   ]
  },
  {
   "cell_type": "markdown",
   "id": "30e69bea",
   "metadata": {},
   "source": [
    "affichage des valeurs manquantes:"
   ]
  },
  {
   "cell_type": "code",
   "execution_count": null,
   "id": "eb80e38d",
   "metadata": {},
   "outputs": [],
   "source": [
    "edl_enquete.isna().sum()"
   ]
  },
  {
   "cell_type": "markdown",
   "id": "c14f15c1",
   "metadata": {},
   "source": [
    "affichage graphique des valeurs manquantes:"
   ]
  },
  {
   "cell_type": "code",
   "execution_count": null,
   "id": "634256fe",
   "metadata": {},
   "outputs": [],
   "source": [
    "msno.matrix(edl_enquete)"
   ]
  },
  {
   "cell_type": "markdown",
   "id": "77bc9235",
   "metadata": {
    "jp-MarkdownHeadingCollapsed": true
   },
   "source": [
    "## EDL_OST = Occupant Sans droit ni Titre"
   ]
  },
  {
   "cell_type": "code",
   "execution_count": null,
   "id": "bf46ed3e",
   "metadata": {},
   "outputs": [],
   "source": [
    "edl_ost"
   ]
  },
  {
   "cell_type": "markdown",
   "id": "3ace91ef",
   "metadata": {},
   "source": [
    "\n",
    "dimension du DataFrame:"
   ]
  },
  {
   "cell_type": "code",
   "execution_count": null,
   "id": "3761605b",
   "metadata": {},
   "outputs": [],
   "source": [
    "edl_ost.shape"
   ]
  },
  {
   "cell_type": "markdown",
   "id": "b163748a",
   "metadata": {},
   "source": [
    "type des colonnes:"
   ]
  },
  {
   "cell_type": "code",
   "execution_count": null,
   "id": "04c2ca4a",
   "metadata": {},
   "outputs": [],
   "source": [
    "edl_ost.info()"
   ]
  },
  {
   "cell_type": "markdown",
   "id": "9cc43c94",
   "metadata": {},
   "source": [
    "affichage des valeurs manquantes:"
   ]
  },
  {
   "cell_type": "code",
   "execution_count": null,
   "id": "25835652",
   "metadata": {},
   "outputs": [],
   "source": [
    "edl_ost.isna().sum()"
   ]
  },
  {
   "cell_type": "markdown",
   "id": "4b460a9f",
   "metadata": {},
   "source": [
    "affichage graphique des valeurs manquantes:"
   ]
  },
  {
   "cell_type": "code",
   "execution_count": null,
   "id": "212b6a6d",
   "metadata": {},
   "outputs": [],
   "source": [
    "msno.matrix(edl_ost)"
   ]
  },
  {
   "cell_type": "markdown",
   "id": "0ed5388d",
   "metadata": {
    "jp-MarkdownHeadingCollapsed": true
   },
   "source": [
    "## EDL_travaux = montant des travaux totaux par logement "
   ]
  },
  {
   "cell_type": "code",
   "execution_count": null,
   "id": "66ebd085",
   "metadata": {},
   "outputs": [],
   "source": [
    "edl_travaux"
   ]
  },
  {
   "cell_type": "markdown",
   "id": "ce57121f",
   "metadata": {},
   "source": [
    "dimension du DataFrame:"
   ]
  },
  {
   "cell_type": "code",
   "execution_count": null,
   "id": "11795eb9",
   "metadata": {},
   "outputs": [],
   "source": [
    "edl_travaux.shape"
   ]
  },
  {
   "cell_type": "markdown",
   "id": "0b2e4ee2",
   "metadata": {},
   "source": [
    "type des colonnes:"
   ]
  },
  {
   "cell_type": "code",
   "execution_count": null,
   "id": "b5a6ffc0",
   "metadata": {},
   "outputs": [],
   "source": [
    "edl_travaux.info()"
   ]
  },
  {
   "cell_type": "markdown",
   "id": "8b17859e",
   "metadata": {},
   "source": [
    "affichage des valeurs manquantes:"
   ]
  },
  {
   "cell_type": "code",
   "execution_count": null,
   "id": "3ae1c192",
   "metadata": {},
   "outputs": [],
   "source": [
    "edl_travaux.isna().sum()"
   ]
  },
  {
   "cell_type": "markdown",
   "id": "1cadda93",
   "metadata": {},
   "source": [
    "affichage graphique des valeurs manquantes:"
   ]
  },
  {
   "cell_type": "code",
   "execution_count": null,
   "id": "84d26e5f",
   "metadata": {},
   "outputs": [],
   "source": [
    "msno.matrix(edl_travaux)"
   ]
  },
  {
   "cell_type": "markdown",
   "id": "64320666",
   "metadata": {},
   "source": [
    "# Data Cleaning"
   ]
  },
  {
   "cell_type": "markdown",
   "id": "b2a9013d",
   "metadata": {
    "jp-MarkdownHeadingCollapsed": true
   },
   "source": [
    "## EDL_ES = Etat des lieux Entrant Sortant"
   ]
  },
  {
   "cell_type": "markdown",
   "id": "e6404813",
   "metadata": {},
   "source": [
    "Conversion des colonnes cible en dates:"
   ]
  },
  {
   "cell_type": "code",
   "execution_count": null,
   "id": "cb8311c9",
   "metadata": {},
   "outputs": [],
   "source": [
    "edl_es['DTD_CTRAT'] = pd.to_datetime(edl_es['DTD_CTRAT'])\n",
    "edl_es['DTF_CTRAT'] = pd.to_datetime(edl_es['DTF_CTRAT'])\n",
    "edl_es['DT_DOSEDL_ENT'] = pd.to_datetime(edl_es['DT_DOSEDL_ENT'])\n",
    "edl_es['DT_DOSEDL_SOR'] = pd.to_datetime(edl_es['DT_DOSEDL_SOR'])"
   ]
  },
  {
   "cell_type": "markdown",
   "id": "5212e186",
   "metadata": {},
   "source": [
    "Liste des tache:"
   ]
  },
  {
   "cell_type": "code",
   "execution_count": null,
   "id": "170c8112",
   "metadata": {},
   "outputs": [],
   "source": [
    "# concatenation des 3 colonnes: CD_PATRIM, NO_CTRACLI, NO_EDL_ENT\n",
    "# affichier en double la colonne CD_PATRIM pour effectuer les jointures\n",
    "# drop colonnes des colonnes: ID_PERS_ENT, ID_PERS_SOR\n",
    "# mise en place du barem pour les colonnes: LB_NOTSANT_ENT, LB_NOTSANT_SOR\n",
    "# ajouter une colonnes pour avoir la note global a l'entré et a la sortie\n",
    "# creer un dataframe d'etat des lieux sortant et un dataframe ou les etats des lieux n'ont pas était défini"
   ]
  },
  {
   "cell_type": "markdown",
   "id": "fb3c6955",
   "metadata": {},
   "source": [
    "Creation du DataFrame de test:"
   ]
  },
  {
   "cell_type": "code",
   "execution_count": null,
   "id": "2487c9db",
   "metadata": {},
   "outputs": [],
   "source": [
    "test_edl_es  = edl_es.copy()"
   ]
  },
  {
   "cell_type": "markdown",
   "id": "d173e494",
   "metadata": {},
   "source": [
    "Creation de la cle primaire:"
   ]
  },
  {
   "cell_type": "code",
   "execution_count": null,
   "id": "def78011",
   "metadata": {},
   "outputs": [],
   "source": [
    "test_edl_es['cle_primaire'] = test_edl_es[['CD_PATRIM', 'NO_CTRACLI', 'NO_EDL_ENT']].astype(str).agg('-'.join, axis=1)"
   ]
  },
  {
   "cell_type": "markdown",
   "id": "919b6ac3",
   "metadata": {},
   "source": [
    "Drop des colonnes non pertinente:"
   ]
  },
  {
   "cell_type": "code",
   "execution_count": null,
   "id": "ff23823b",
   "metadata": {},
   "outputs": [],
   "source": [
    "test_edl_es.drop(columns = ['ID_PERS_ENT', 'ID_PERS_SOR', 'NO_EDL_ENT'], inplace = True)"
   ]
  },
  {
   "cell_type": "markdown",
   "id": "221c0990",
   "metadata": {},
   "source": [
    "Affichage des valeurs des colonnes cible pour le barem:"
   ]
  },
  {
   "cell_type": "code",
   "execution_count": null,
   "id": "7debe1bf",
   "metadata": {},
   "outputs": [],
   "source": [
    "test_edl_es['LB_NOTSANT_ENT'].unique()"
   ]
  },
  {
   "cell_type": "code",
   "execution_count": null,
   "id": "96450b87",
   "metadata": {},
   "outputs": [],
   "source": [
    "test_edl_es['LB_NOTSANT_SOR'].unique()"
   ]
  },
  {
   "cell_type": "markdown",
   "id": "827fe64c",
   "metadata": {},
   "source": [
    "Mise en place du barem:"
   ]
  },
  {
   "cell_type": "code",
   "execution_count": null,
   "id": "9eae96cf",
   "metadata": {},
   "outputs": [],
   "source": [
    "mapping = {\n",
    "    'NEUF                          ': 100,\n",
    "    'BON ETAT                      ': 85,\n",
    "    'USURE NORM                    ': 75,\n",
    "    'VETUSTE                       ': 35,\n",
    "    'ENDOMMAGE                     ': 15,\n",
    "    'DETERIORE                     ': 5,\n",
    "    'MANQUANT                      ': 0,\n",
    "    'EN FONCTION                   ': 0,\n",
    "    'HORS SERVICE                  ': 0\n",
    "}"
   ]
  },
  {
   "cell_type": "code",
   "execution_count": null,
   "id": "83259a71",
   "metadata": {},
   "outputs": [],
   "source": [
    "test_edl_es['LB_NOTSANT_ENT'] = test_edl_es['LB_NOTSANT_ENT'].map(mapping)"
   ]
  },
  {
   "cell_type": "code",
   "execution_count": null,
   "id": "a28e4451",
   "metadata": {},
   "outputs": [],
   "source": [
    "test_edl_es['LB_NOTSANT_SOR'] = test_edl_es['LB_NOTSANT_SOR'].map(mapping)"
   ]
  },
  {
   "cell_type": "markdown",
   "id": "4ae8f688",
   "metadata": {},
   "source": [
    "Creation de la note global a l'entree et a la sortie:"
   ]
  },
  {
   "cell_type": "code",
   "execution_count": null,
   "id": "f686a5b5",
   "metadata": {},
   "outputs": [],
   "source": [
    "edl_entree_globale = pd.DataFrame(test_edl_es.groupby('cle_primaire')['LB_NOTSANT_ENT'].sum())\n",
    "edl_entree_globale.reset_index(inplace = True)"
   ]
  },
  {
   "cell_type": "code",
   "execution_count": null,
   "id": "3f1a2ae2",
   "metadata": {},
   "outputs": [],
   "source": [
    "edl_entree_globale['cle_primaire'].nunique()"
   ]
  },
  {
   "cell_type": "code",
   "execution_count": null,
   "id": "f5c04a94",
   "metadata": {},
   "outputs": [],
   "source": [
    "edl_sortant_globale = pd.DataFrame(test_edl_es.groupby('cle_primaire')['LB_NOTSANT_SOR'].sum())\n",
    "edl_sortant_globale.reset_index(inplace = True)"
   ]
  },
  {
   "cell_type": "code",
   "execution_count": null,
   "id": "01670fa8",
   "metadata": {},
   "outputs": [],
   "source": [
    "edl_sortant_globale['cle_primaire'].nunique()"
   ]
  },
  {
   "cell_type": "markdown",
   "id": "1bcc5bb9",
   "metadata": {},
   "source": [
    "creation du dataframe avec les EDL entrant sortant:"
   ]
  },
  {
   "cell_type": "code",
   "execution_count": null,
   "id": "8653d8b8",
   "metadata": {},
   "outputs": [],
   "source": [
    "edl_sortant = test_edl_es.dropna()\n",
    "edl_sortant"
   ]
  },
  {
   "cell_type": "code",
   "execution_count": null,
   "id": "e780874f",
   "metadata": {},
   "outputs": [],
   "source": [
    "edl_sortant = edl_sortant.merge(edl_entree_globale, on = 'cle_primaire', how = 'inner')"
   ]
  },
  {
   "cell_type": "code",
   "execution_count": null,
   "id": "0f61dff8",
   "metadata": {},
   "outputs": [],
   "source": [
    "edl_sortant = edl_sortant.merge(edl_sortant_globale, on = 'cle_primaire', how = 'inner')"
   ]
  },
  {
   "cell_type": "code",
   "execution_count": null,
   "id": "2381a548",
   "metadata": {},
   "outputs": [],
   "source": [
    "edl_sortant['cle_primaire'].nunique()"
   ]
  },
  {
   "cell_type": "code",
   "execution_count": null,
   "id": "d9c2e317",
   "metadata": {},
   "outputs": [],
   "source": [
    "edl_sortant.shape"
   ]
  },
  {
   "cell_type": "code",
   "execution_count": null,
   "id": "d4f877a5",
   "metadata": {},
   "outputs": [],
   "source": [
    "edl_entree_sortie = edl_sortant.drop_duplicates(subset = 'cle_primaire')\n",
    "edl_entree_sortie"
   ]
  },
  {
   "cell_type": "markdown",
   "id": "66aef5ac",
   "metadata": {},
   "source": [
    "creation du dataframe avec que les entre:"
   ]
  },
  {
   "cell_type": "code",
   "execution_count": null,
   "id": "79e9e8f3",
   "metadata": {},
   "outputs": [],
   "source": [
    "test_edl_es.shape"
   ]
  },
  {
   "cell_type": "code",
   "execution_count": null,
   "id": "c90a48dd",
   "metadata": {},
   "outputs": [],
   "source": [
    "test_edl_es['cle_jointure'] = test_edl_es[['CD_PATRIM', 'NO_CTRACLI']].astype(str).agg('-'.join, axis=1)"
   ]
  },
  {
   "cell_type": "markdown",
   "id": "3510cb53",
   "metadata": {},
   "source": [
    "table pour tester notre formule d'hypotese"
   ]
  },
  {
   "cell_type": "code",
   "execution_count": null,
   "id": "ef220a69",
   "metadata": {},
   "outputs": [],
   "source": [
    "edl_entree = test_edl_es[test_edl_es['CD_TYPEDL_SOR'].isna()]\n",
    "edl_entree.shape"
   ]
  },
  {
   "cell_type": "code",
   "execution_count": null,
   "id": "ede62898",
   "metadata": {},
   "outputs": [],
   "source": [
    "edl_entree = edl_entree.merge(edl_entree_globale, on='cle_primaire', how='inner')"
   ]
  },
  {
   "cell_type": "code",
   "execution_count": null,
   "id": "0101030a",
   "metadata": {},
   "outputs": [],
   "source": [
    "edl_entree = edl_entree.drop_duplicates(subset = 'cle_primaire')"
   ]
  },
  {
   "cell_type": "markdown",
   "id": "7fe666f6",
   "metadata": {
    "jp-MarkdownHeadingCollapsed": true
   },
   "source": [
    "## edl_entree = Table des EDL entrant sans les sortie (locataire toujours dans le logement)"
   ]
  },
  {
   "cell_type": "markdown",
   "id": "32df9aa2",
   "metadata": {},
   "source": [
    "cette table servira de test pour nos hypothèse"
   ]
  },
  {
   "cell_type": "code",
   "execution_count": null,
   "id": "847b4adf",
   "metadata": {},
   "outputs": [],
   "source": [
    "edl_entree"
   ]
  },
  {
   "cell_type": "code",
   "execution_count": null,
   "id": "81800f16",
   "metadata": {},
   "outputs": [],
   "source": [
    "edl_entree.info()"
   ]
  },
  {
   "cell_type": "markdown",
   "id": "45739090",
   "metadata": {},
   "source": [
    "Drop des colonnes non pertinente:"
   ]
  },
  {
   "cell_type": "code",
   "execution_count": null,
   "id": "d2e98c39",
   "metadata": {},
   "outputs": [],
   "source": [
    "edl_entree.drop(columns = [\n",
    "    'Unnamed: 0', 'NO_EDL_SOR',\t'NO_CONSEDL_SOR', \n",
    "    'CD_TYPEDL_SOR', 'DT_DOSEDL_SOR', 'LB_NOTSANT_SOR', \n",
    "    'DT_DOSEDL_ENT', 'LB_NOTSANT_ENT_x', 'LB_CONTENU1', \n",
    "    'LB_CONTENU2', 'DTF_CTRAT', 'NO_CONSEDL_ENT'\n",
    "    ], inplace = True)"
   ]
  },
  {
   "cell_type": "markdown",
   "id": "f9fc1404",
   "metadata": {},
   "source": [
    "Changement de l'ordre des colonnes:"
   ]
  },
  {
   "cell_type": "code",
   "execution_count": null,
   "id": "0ea08fbe",
   "metadata": {},
   "outputs": [],
   "source": [
    "edl_entree = edl_entree.reindex(['cle_primaire', 'CD_PATRIM', 'NO_CTRACLI', 'DTD_CTRAT', 'CD_TYPEDL_ENT', 'LB_NOTSANT_ENT_y'], axis = 1)"
   ]
  },
  {
   "cell_type": "markdown",
   "id": "263a55b3",
   "metadata": {},
   "source": [
    "Changement de nom de la dernière colonne:"
   ]
  },
  {
   "cell_type": "code",
   "execution_count": null,
   "id": "3a7d93b2",
   "metadata": {},
   "outputs": [],
   "source": [
    "edl_entree.rename(columns = {'LB_NOTSANT_ENT_y' : 'LB_NOTSANT_ENT'}, inplace = True)"
   ]
  },
  {
   "cell_type": "code",
   "execution_count": null,
   "id": "b3cadf9d",
   "metadata": {},
   "outputs": [],
   "source": [
    "edl_entree"
   ]
  },
  {
   "cell_type": "markdown",
   "id": "01425f17",
   "metadata": {},
   "source": [
    "Concatenation CD_PATRIM et numero client. Qui est notre cle pour les jointures:"
   ]
  },
  {
   "cell_type": "code",
   "execution_count": null,
   "id": "e904a5c9",
   "metadata": {},
   "outputs": [],
   "source": [
    "edl_entree['cle_jointure'] = edl_entree[['CD_PATRIM', 'NO_CTRACLI']].astype(str).agg('-'.join, axis=1)"
   ]
  },
  {
   "cell_type": "code",
   "execution_count": null,
   "id": "470fc1d1",
   "metadata": {},
   "outputs": [],
   "source": [
    "edl_entree.to_csv('edl_entree.csv', index = False)"
   ]
  },
  {
   "cell_type": "markdown",
   "id": "5968d4c1",
   "metadata": {
    "jp-MarkdownHeadingCollapsed": true
   },
   "source": [
    "## edl_entree_sortie = Table des EDL d'entre et de sortie"
   ]
  },
  {
   "cell_type": "markdown",
   "id": "84e8d601",
   "metadata": {},
   "source": [
    "Ceci est notre base EDL pour faire nos analyse pour le sujet A (pour les prévisite des logements).\n",
    "C'est sur cette table que seras incrémenter nos autre DataFrame."
   ]
  },
  {
   "cell_type": "code",
   "execution_count": null,
   "id": "bad64a60",
   "metadata": {},
   "outputs": [],
   "source": [
    "edl_entree_sortie"
   ]
  },
  {
   "cell_type": "markdown",
   "id": "240f75f7",
   "metadata": {},
   "source": [
    "Drop des colonnes non pertinente:"
   ]
  },
  {
   "cell_type": "code",
   "execution_count": null,
   "id": "c24dee80",
   "metadata": {},
   "outputs": [],
   "source": [
    "edl_entree_sortie.drop(columns = [\n",
    "    'Unnamed: 0', 'NO_CONSEDL_ENT', 'DT_DOSEDL_ENT', \n",
    "    'NO_EDL_SOR', 'NO_CONSEDL_SOR', 'DT_DOSEDL_SOR', \n",
    "    'LB_CONTENU1', 'LB_CONTENU2', 'LB_NOTSANT_ENT_x', \n",
    "    'LB_NOTSANT_SOR_x'], inplace = True)"
   ]
  },
  {
   "cell_type": "code",
   "execution_count": null,
   "id": "ce1bc4b0",
   "metadata": {},
   "outputs": [],
   "source": [
    "edl_entree_sortie"
   ]
  },
  {
   "cell_type": "markdown",
   "id": "7d439367",
   "metadata": {},
   "source": [
    "Changement de l'ordre des colonnes:"
   ]
  },
  {
   "cell_type": "code",
   "execution_count": null,
   "id": "2dc0680b",
   "metadata": {},
   "outputs": [],
   "source": [
    "edl_entree_sortie = edl_entree_sortie.reindex(['cle_primaire', 'CD_PATRIM','NO_CTRACLI', 'DTD_CTRAT','DTF_CTRAT', 'CD_TYPEDL_ENT', 'CD_TYPEDL_SOR', 'LB_NOTSANT_ENT_y', 'LB_NOTSANT_SOR_y'], axis = 1)"
   ]
  },
  {
   "cell_type": "markdown",
   "id": "86965085",
   "metadata": {},
   "source": [
    "Changement des noms des colonnes cible:"
   ]
  },
  {
   "cell_type": "code",
   "execution_count": null,
   "id": "530c6698",
   "metadata": {},
   "outputs": [],
   "source": [
    "edl_entree_sortie.rename(columns = {'LB_NOTSANT_ENT_y' : 'LB_NOTSANT_ENT', 'LB_NOTSANT_SOR_y' : 'LB_NOTSANT_SOR'}, inplace = True)"
   ]
  },
  {
   "cell_type": "code",
   "execution_count": null,
   "id": "2b767772",
   "metadata": {},
   "outputs": [],
   "source": [
    "edl_entree_sortie"
   ]
  },
  {
   "cell_type": "markdown",
   "id": "7742bf8c",
   "metadata": {},
   "source": [
    "Creation de la cle de jointure:"
   ]
  },
  {
   "cell_type": "code",
   "execution_count": null,
   "id": "8135b688",
   "metadata": {},
   "outputs": [],
   "source": [
    "edl_entree_sortie['cle_jointure'] = edl_entree_sortie[['CD_PATRIM', 'NO_CTRACLI']].astype(str).agg('-'.join, axis=1)"
   ]
  },
  {
   "cell_type": "markdown",
   "id": "a1fac6e7",
   "metadata": {
    "jp-MarkdownHeadingCollapsed": true
   },
   "source": [
    "## EDL_enquete = frais de non reponses aux enquetes "
   ]
  },
  {
   "cell_type": "markdown",
   "id": "e312a227",
   "metadata": {},
   "source": [
    "Changement des colonnes cible en Datetime:"
   ]
  },
  {
   "cell_type": "code",
   "execution_count": null,
   "id": "bde41097",
   "metadata": {},
   "outputs": [],
   "source": [
    "edl_enquete['DTD_CTRAT'] = pd.to_datetime(edl_enquete['DTD_CTRAT'], format='%Y-%m-%d')\n",
    "edl_enquete['DTF_CTRAT'] = pd.to_datetime(edl_enquete['DTF_CTRAT'], format='%Y-%m-%d')\n",
    "edl_enquete['DEBUT_FRAIS_DT_SID_FACTURA_GIM'] = pd.to_datetime(edl_enquete['DEBUT_FRAIS_DT_SID_FACTURA_GIM'], format='%Y-%m-%d')\n",
    "edl_enquete['FIN_FRAIS_DT_SID_FACTURA_GIM'] = pd.to_datetime(edl_enquete['FIN_FRAIS_DT_SID_FACTURA_GIM'], format='%Y-%m-%d')"
   ]
  },
  {
   "cell_type": "markdown",
   "id": "985f4a86",
   "metadata": {},
   "source": [
    "Changement des colonnes cible en Float:"
   ]
  },
  {
   "cell_type": "code",
   "execution_count": null,
   "id": "2d19616d",
   "metadata": {},
   "outputs": [],
   "source": [
    "edl_enquete['MT_CPT_PENALITE RETARD_SLS_EOS'] = edl_enquete['MT_CPT_PENALITE RETARD_SLS_EOS'].str.replace(',', '.').astype(float)\n",
    "edl_enquete['MT_FRAIS DOSS_SLS_EOS'] = edl_enquete['MT_FRAIS DOSS_SLS_EOS'].str.replace(',', '.').astype(float)"
   ]
  },
  {
   "cell_type": "markdown",
   "id": "609af3a5",
   "metadata": {},
   "source": [
    "Changement des colonnes cible en STR:"
   ]
  },
  {
   "cell_type": "code",
   "execution_count": null,
   "id": "6509a7fb",
   "metadata": {},
   "outputs": [],
   "source": [
    "edl_enquete['PERS PHYSIQUE_MORALE'] = edl_enquete['PERS PHYSIQUE_MORALE'].astype(str)\n",
    "edl_enquete['CD_PATRIM'] = edl_enquete['CD_PATRIM'].astype(str)"
   ]
  },
  {
   "cell_type": "markdown",
   "id": "29f1de95",
   "metadata": {},
   "source": [
    "Suppression de la colonne DT_ALIM:"
   ]
  },
  {
   "cell_type": "code",
   "execution_count": null,
   "id": "d2fbda2b",
   "metadata": {},
   "outputs": [],
   "source": [
    "edl_enquete.drop(columns='DT_ALIM', inplace=True)"
   ]
  },
  {
   "cell_type": "markdown",
   "id": "53e81887",
   "metadata": {},
   "source": [
    "Remplacement des Nan('str') en Valeur Nan:"
   ]
  },
  {
   "cell_type": "code",
   "execution_count": null,
   "id": "4377be27",
   "metadata": {},
   "outputs": [],
   "source": [
    "edl_enquete['PERS PHYSIQUE_MORALE'].replace('nan',np.nan, inplace=True)"
   ]
  },
  {
   "cell_type": "markdown",
   "id": "386aa625",
   "metadata": {},
   "source": [
    "Creation du DataFrame de test:"
   ]
  },
  {
   "cell_type": "code",
   "execution_count": null,
   "id": "d88e69fa-7beb-4bf1-a26b-76e2b9097b6b",
   "metadata": {},
   "outputs": [],
   "source": [
    "test_edl_enquete = edl_enquete"
   ]
  },
  {
   "cell_type": "markdown",
   "id": "4fde7ee9",
   "metadata": {},
   "source": [
    "Drop des colonnes non pertinente:"
   ]
  },
  {
   "cell_type": "code",
   "execution_count": null,
   "id": "132cafdc-833d-4ccb-8b26-3e8758b6505f",
   "metadata": {},
   "outputs": [],
   "source": [
    "test_edl_enquete.drop(columns=['ID_DOSCLIE', 'NO_DOSFACT', 'DTD_CTRAT', 'DTF_CTRAT', 'CD_PATRIM1', 'CD_PATRIM2', 'CD_PATRIM3', 'CD_PATRIM4', 'DEBUT_FRAIS_DT_SID_FACTURA_GIM', \n",
    "                    'FIN_FRAIS_DT_SID_FACTURA_GIM', 'CPT_FRAIS DOSS_SLS_EOS',\t'MT_FRAIS DOSS_SLS_EOS'], inplace=True)"
   ]
  },
  {
   "cell_type": "markdown",
   "id": "ec169dcb",
   "metadata": {},
   "source": [
    "Remplacement des valeurs null(0) en Valeur Nan:"
   ]
  },
  {
   "cell_type": "code",
   "execution_count": null,
   "id": "484ac7e6-6c40-420a-a2d3-e4396e8ed65d",
   "metadata": {},
   "outputs": [],
   "source": [
    "test_edl_enquete['CPT_PENALITE RETARD_SLS_EOS'].replace(0, np.nan, inplace=True)"
   ]
  },
  {
   "cell_type": "markdown",
   "id": "c32bbacd",
   "metadata": {},
   "source": [
    "Drop des nan dans la colonnes cible:"
   ]
  },
  {
   "cell_type": "code",
   "execution_count": null,
   "id": "0b460ca0-781c-47d3-b156-b218e7bcac75",
   "metadata": {},
   "outputs": [],
   "source": [
    "test_edl_enquete.dropna(axis=0, subset='CPT_PENALITE RETARD_SLS_EOS', inplace=True)"
   ]
  },
  {
   "cell_type": "markdown",
   "id": "0e0b4698",
   "metadata": {},
   "source": [
    "Changement du type de la colonnes cible:"
   ]
  },
  {
   "cell_type": "code",
   "execution_count": null,
   "id": "de6a35e1-61e8-4a46-bc55-5967196aaac5",
   "metadata": {},
   "outputs": [],
   "source": [
    "test_edl_enquete['CPT_PENALITE RETARD_SLS_EOS'] = test_edl_enquete['CPT_PENALITE RETARD_SLS_EOS'].astype(int)"
   ]
  },
  {
   "cell_type": "markdown",
   "id": "d464083c",
   "metadata": {},
   "source": [
    "Somme des penaliter de retard grouper par personne physique ou moral:"
   ]
  },
  {
   "cell_type": "code",
   "execution_count": null,
   "id": "0f06d521-7594-41ce-b830-fd1dbb1cf5bb",
   "metadata": {},
   "outputs": [],
   "source": [
    "test_edl_enquete.groupby('PERS PHYSIQUE_MORALE')['CPT_PENALITE RETARD_SLS_EOS'].sum()"
   ]
  },
  {
   "cell_type": "markdown",
   "id": "25ca7b42",
   "metadata": {},
   "source": [
    "Creation de la cle de jointure:"
   ]
  },
  {
   "cell_type": "code",
   "execution_count": null,
   "id": "cd6dead7",
   "metadata": {},
   "outputs": [],
   "source": [
    "test_edl_enquete['cle_jointure'] = test_edl_enquete[['CD_PATRIM', 'NO_CTRACLI']].astype(str).agg('-'.join, axis=1)"
   ]
  },
  {
   "cell_type": "code",
   "execution_count": null,
   "id": "14b92bdb",
   "metadata": {},
   "outputs": [],
   "source": [
    "test_edl_enquete.to_csv('test_edl_enquete.csv', index = False)"
   ]
  },
  {
   "cell_type": "code",
   "execution_count": null,
   "id": "0c4bd3a0",
   "metadata": {},
   "outputs": [],
   "source": [
    "test_edl_enquete\n"
   ]
  },
  {
   "cell_type": "markdown",
   "id": "0add168e",
   "metadata": {},
   "source": [
    "## EDL_patrimoine = Patrimoines des locataires sortant"
   ]
  },
  {
   "cell_type": "code",
   "execution_count": null,
   "id": "bc50fbe5",
   "metadata": {},
   "outputs": [],
   "source": [
    "# Liste des colonnes à conserver\n",
    "test_edl_patrimoine = edl_patrimoine[[\n",
    "    'CD_PATRIM', 'ON_ZONTEND', 'DATE MISE EN GESTION', 'DATE FIN CONSTRUCTION', 'ZZ_AGEBAT_EDL', 'ZZ_ANCBAT_EDL', \n",
    "    'TYPOLOGIE', 'CATEG PLAFOND LOYER', 'NO_DEPT', 'LB_DEPT', 'ZZ_LB_TYCONSTR', 'ZZ_LB_TY_CNV', 'MT_LOYER', \n",
    "    'MT_CHARGES', 'MT_TOTRUB', 'SURF_HAB', 'ZZ_REPCHA_SH_SUR_3', 'ZZ_MT_LOYER_M2_SH', 'ZZ_MT_CHARGES_M2_SH', \n",
    "    'ZZ_MT_TOTRUB_M2_SH', 'NO_EDL', 'NO CONSTAT', 'LB_TYPEDL', 'DT_DOSEDL', 'DT_CONSEDL', 'NO_CTRACLI', \n",
    "    'NB_EDL_SORTANT_AVEC_HUISSIER', 'MT FACTURE AU LOCATAIRE (MT_INDEMREEL)', 'MT_FA_PRO', 'MT_FA_REC', \n",
    "    'MT_REELEDL_HT', 'MT_REELEDL_TTC', 'DUREE OCCUPATION MM', 'DUREE OCCUPATION AA', 'CD_PHYMOR', 'NB_UC_ENTREE', \n",
    "    'MT_RES_UC_ENTREE', 'MT_NIVRES_BR_ENTREE', 'NB_OCCUPAN_ENTREE', 'NB_PERCHA_ENTREE', 'NB_ENFANT_ENTREE', \n",
    "    'ON_JEUMENA_ENTREE', 'ZZ_AGE_CL_ENTREE', 'ON_SEULE_ENTREE', 'ON_FAMMONO_ENTREE', 'ON_DALO_ENTREE', \n",
    "    'CD_CPDALO_ENTREE', 'LB_CPDALO_ENTREE', 'ON_PDALPD_ENTREE', 'CD_CPDALPD_ENTREE', 'MT_PLAFOND_ENTREE', \n",
    "    'MT_RESSOU_ENTREE', 'CD_CTRATYP', 'LB_CTRATYP', 'TY_AID_ENT', 'NOM_AIDENT', 'LB_SITFAM_ACTUEL', 'OST_ACTUEL', \n",
    "    'NB_OCCUPAN_ACTUEL', 'NB_ENFANT _ACTUEL', 'AN_TOTREVI_ACTUEL', 'MT_TOTREVI_ACTUEL', 'ON_FAMMONO_ACTUEL', \n",
    "    'ON_JEUMENA_ACTUEL', 'MT_SOLDLOY_ACTUEL', 'MT_SOLD_DG_ACTUEL', 'NB_SIT_1000', 'NB_SIT_9180', 'NB_SIT_4500', \n",
    "    'NB_SIT_8200', 'NB_TYPSIT_Expulsion', 'NB_TYPSIT_Information', 'NB_TYPSIT_Contentieux', 'NB_TYPSIT_Action_sociale', \n",
    "    'MT_SOLD_LOY_A_FIN_CONTRAT', 'NB_ECHRES_A_FIN_CONTRAT', 'DATE_PREM_IMPAYE', 'MT_SOLD_DEB_PREM_IMPAYE', \n",
    "    'PLAGE AGE DETTE_PREM_IMPAYE'\n",
    "]]\n",
    "\n",
    "\n"
   ]
  },
  {
   "cell_type": "markdown",
   "id": "9fa1d10d",
   "metadata": {},
   "source": [
    "Affichage de la dimension du DatFrame:"
   ]
  },
  {
   "cell_type": "code",
   "execution_count": null,
   "id": "5c864665",
   "metadata": {},
   "outputs": [],
   "source": [
    "test_edl_patrimoine.shape"
   ]
  },
  {
   "cell_type": "markdown",
   "id": "c88e3731",
   "metadata": {},
   "source": [
    "Affichage des type de colonnes du DataFrame:"
   ]
  },
  {
   "cell_type": "code",
   "execution_count": null,
   "id": "7b7eea4f",
   "metadata": {},
   "outputs": [],
   "source": [
    "test_edl_patrimoine.info()"
   ]
  },
  {
   "cell_type": "code",
   "execution_count": null,
   "id": "6ef5a3fd",
   "metadata": {},
   "outputs": [],
   "source": [
    "test_edl_patrimoine[['DATE MISE EN GESTION', 'DATE FIN CONSTRUCTION', 'DT_DOSEDL', 'DT_CONSEDL', 'DATE_PREM_IMPAYE']]"
   ]
  },
  {
   "cell_type": "markdown",
   "id": "3e440877",
   "metadata": {},
   "source": [
    "Changement des colonnes cible en date P1:"
   ]
  },
  {
   "cell_type": "code",
   "execution_count": null,
   "id": "47f8ea62",
   "metadata": {},
   "outputs": [],
   "source": [
    "test_edl_patrimoine['DATE MISE EN GESTION'] = pd.to_datetime(test_edl_patrimoine['DATE MISE EN GESTION'])\n",
    "test_edl_patrimoine['DATE FIN CONSTRUCTION'] = pd.to_datetime(test_edl_patrimoine['DATE FIN CONSTRUCTION'])"
   ]
  },
  {
   "cell_type": "markdown",
   "id": "238940a0",
   "metadata": {},
   "source": [
    "Changement des colonnes cible en date P2:"
   ]
  },
  {
   "cell_type": "code",
   "execution_count": null,
   "id": "010a99e7",
   "metadata": {},
   "outputs": [],
   "source": [
    "test_edl_patrimoine['DT_DOSEDL'] = pd.to_datetime(test_edl_patrimoine['DT_DOSEDL'], format = 'mixed')\n",
    "test_edl_patrimoine['DT_CONSEDL'] = pd.to_datetime(test_edl_patrimoine['DT_CONSEDL'], format = 'mixed')"
   ]
  },
  {
   "cell_type": "markdown",
   "id": "2b73e821",
   "metadata": {},
   "source": [
    "Changement des colonnes cible en date P3:"
   ]
  },
  {
   "cell_type": "code",
   "execution_count": null,
   "id": "cdecefd2",
   "metadata": {},
   "outputs": [],
   "source": [
    "test_edl_patrimoine['DATE_PREM_IMPAYE'] = pd.to_datetime(test_edl_patrimoine['DATE_PREM_IMPAYE'], format = 'mixed')"
   ]
  },
  {
   "cell_type": "markdown",
   "id": "30675ff3",
   "metadata": {},
   "source": [
    "Creation de la cle de jointure:"
   ]
  },
  {
   "cell_type": "code",
   "execution_count": null,
   "id": "9f7031dd",
   "metadata": {},
   "outputs": [],
   "source": [
    "test_edl_patrimoine['cle_jointure'] = test_edl_patrimoine[['CD_PATRIM', 'NO_CTRACLI']].astype(str).agg('-'.join, axis=1)"
   ]
  },
  {
   "cell_type": "code",
   "execution_count": null,
   "id": "60fd17cf",
   "metadata": {},
   "outputs": [],
   "source": [
    "test_edl_patrimoine['DUREE OCCUPATION MM'] = test_edl_patrimoine['DUREE OCCUPATION MM'].astype(pd.Int64Dtype())\n",
    "test_edl_patrimoine['DUREE OCCUPATION AA'] = test_edl_patrimoine['DUREE OCCUPATION AA'].astype(pd.Int64Dtype())"
   ]
  },
  {
   "cell_type": "markdown",
   "id": "03c35415",
   "metadata": {},
   "source": [
    "Création du DataFrame pour les logements:"
   ]
  },
  {
   "cell_type": "code",
   "execution_count": null,
   "id": "b7e48309",
   "metadata": {},
   "outputs": [],
   "source": [
    "patrimoine_logement = test_edl_patrimoine[['CD_PATRIM', 'ON_ZONTEND', 'ZZ_AGEBAT_EDL', 'TYPOLOGIE', 'LB_DEPT', 'ZZ_LB_TYCONSTR', 'ZZ_LB_TY_CNV', 'MT_TOTRUB', 'SURF_HAB', 'NO_EDL', 'MT_FA_REC', 'DUREE OCCUPATION MM', 'DUREE OCCUPATION AA', 'CD_PHYMOR', 'NB_PERCHA_ENTREE', 'ZZ_AGE_CL_ENTREE', 'ON_SEULE_ENTREE', 'ON_DALO_ENTREE', 'LB_CTRATYP', 'NOM_AIDENT', 'OST_ACTUEL', 'NB_OCCUPAN_ACTUEL', 'NB_ENFANT _ACTUEL', 'ON_FAMMONO_ACTUEL', 'ON_JEUMENA_ACTUEL', 'cle_jointure']]"
   ]
  },
  {
   "cell_type": "markdown",
   "id": "77fce085",
   "metadata": {},
   "source": [
    "Création du DataFrame pour les profils:"
   ]
  },
  {
   "cell_type": "code",
   "execution_count": null,
   "id": "6d686a3e",
   "metadata": {},
   "outputs": [],
   "source": [
    "patrimoine_profil = test_edl_patrimoine[[\n",
    "    'CD_PATRIM',  \n",
    "    'TYPOLOGIE', 'CATEG PLAFOND LOYER', 'LB_DEPT', 'ZZ_LB_TY_CNV', 'MT_LOYER', \n",
    "    'MT_TOTRUB',  \n",
    "    'MT FACTURE AU LOCATAIRE (MT_INDEMREEL)', 'MT_FA_PRO', 'MT_FA_REC', \n",
    "    'DUREE OCCUPATION MM', 'DUREE OCCUPATION AA', 'CD_PHYMOR', 'ON_DALO_ENTREE', \n",
    "    'MT_PLAFOND_ENTREE', \n",
    "    'MT_RESSOU_ENTREE', 'NOM_AIDENT', 'LB_SITFAM_ACTUEL', 'OST_ACTUEL', \n",
    "    'NB_OCCUPAN_ACTUEL', 'NB_ENFANT _ACTUEL', 'AN_TOTREVI_ACTUEL', 'MT_TOTREVI_ACTUEL', 'ON_FAMMONO_ACTUEL', \n",
    "    'ON_JEUMENA_ACTUEL', 'MT_SOLDLOY_ACTUEL', 'MT_SOLD_DG_ACTUEL', 'NB_SIT_1000', 'NB_SIT_9180', 'NB_SIT_4500', \n",
    "    'NB_SIT_8200', 'NB_TYPSIT_Expulsion', 'NB_TYPSIT_Information', 'NB_TYPSIT_Contentieux', 'NB_TYPSIT_Action_sociale', \n",
    "    'MT_SOLD_LOY_A_FIN_CONTRAT', 'NB_ECHRES_A_FIN_CONTRAT', 'DATE_PREM_IMPAYE', 'MT_SOLD_DEB_PREM_IMPAYE', \n",
    "    'PLAGE AGE DETTE_PREM_IMPAYE', 'cle_jointure']]"
   ]
  },
  {
   "cell_type": "markdown",
   "id": "7ec6ab21-a8da-45bb-94bc-0a1226a12199",
   "metadata": {},
   "source": [
    "## EDL_OST = table avec présence OST (Occupant Sans droit ni Titre)"
   ]
  },
  {
   "cell_type": "markdown",
   "id": "f770112c",
   "metadata": {},
   "source": [
    "Changement de type sur les colonnes cible:"
   ]
  },
  {
   "cell_type": "code",
   "execution_count": null,
   "id": "f65b75b4-4062-4ab9-872a-e19e960b7490",
   "metadata": {},
   "outputs": [],
   "source": [
    "edl_ost['DTD_CTRAT'] = pd.to_datetime(edl_ost['DTD_CTRAT'])\n",
    "edl_ost['DTF_CTRAT'] = pd.to_datetime(edl_ost['DTF_CTRAT'])\n",
    "edl_ost['DT_ALIM'] = pd.to_datetime(edl_ost['DT_ALIM'])\n",
    "edl_ost['CPT_OST'] = edl_ost['CPT_OST'].astype('bool') # peut-être utile de garder seulement cette ligne car les autres seront supprimées"
   ]
  },
  {
   "cell_type": "markdown",
   "id": "bf3ee7d0",
   "metadata": {},
   "source": [
    "Sauvegarde du DataFrame original et création d'un DataFrame de test:"
   ]
  },
  {
   "cell_type": "code",
   "execution_count": null,
   "id": "4f7fde46-a878-437e-88af-0d525a8d7180",
   "metadata": {},
   "outputs": [],
   "source": [
    "test_edl_ost = edl_ost.copy()"
   ]
  },
  {
   "cell_type": "markdown",
   "id": "a9283d9f",
   "metadata": {},
   "source": [
    "Drop des colonnes non pertinente: "
   ]
  },
  {
   "cell_type": "code",
   "execution_count": null,
   "id": "280b5bfb-77e3-41c8-8924-02251f36e53c",
   "metadata": {},
   "outputs": [],
   "source": [
    "test_edl_ost = test_edl_ost.drop(['ID_DOSCLIE', 'NO_DOSFACT', \n",
    "       'DTD_CTRAT', 'DTF_CTRAT', 'CD_PATRIM1', 'CD_PATRIM2',\n",
    "       'CD_PATRIM3', 'CD_PATRIM4', 'NB_ECHEANCES_NON VALEUR',\n",
    "       'MT_NON VALEUR', 'TRANCHE_MT_NON VALEUR', 'DT_ALIM'], axis = 1)\n",
    "test_edl_ost"
   ]
  },
  {
   "cell_type": "markdown",
   "id": "6e25d294",
   "metadata": {},
   "source": [
    "Creation de la cle de jointure:"
   ]
  },
  {
   "cell_type": "code",
   "execution_count": null,
   "id": "a1420caa",
   "metadata": {},
   "outputs": [],
   "source": [
    "test_edl_ost['cle_jointure'] = test_edl_ost[['CD_PATRIM', 'NO_CTRACLI']].astype(str).agg('-'.join, axis=1)"
   ]
  },
  {
   "cell_type": "markdown",
   "id": "4829dc9f-b143-47ae-96c3-3b303f33f1e5",
   "metadata": {},
   "source": [
    "## EDL_Travaux = Description du montant des travaux totaux par logement"
   ]
  },
  {
   "cell_type": "markdown",
   "id": "13c3c7d8",
   "metadata": {},
   "source": [
    "Changement de type sur les colonnes cible:"
   ]
  },
  {
   "cell_type": "code",
   "execution_count": null,
   "id": "71f52d9b-62c0-441f-8706-9e6c78c9a1b0",
   "metadata": {},
   "outputs": [],
   "source": [
    "edl_travaux['DTD_CTRAT_MIN'] = pd.to_datetime(edl_travaux['DTD_CTRAT_MIN'])\n",
    "edl_travaux['DT_ALIM'] = pd.to_datetime(edl_travaux['DT_ALIM'])\n",
    "edl_travaux['DTD_CTRAT_MAX'] = pd.to_datetime(edl_travaux['DTD_CTRAT_MAX'], format= 'mixed') # peut-être utile de garder seulement cette ligne car les autres seront supprimées"
   ]
  },
  {
   "cell_type": "markdown",
   "id": "df9d5820",
   "metadata": {},
   "source": [
    "Sauvegarde du DataFrame original et création d'un DataFrame de test:"
   ]
  },
  {
   "cell_type": "code",
   "execution_count": null,
   "id": "65c20492-d31f-4cc6-b71f-c9aeeaefa8c7",
   "metadata": {},
   "outputs": [],
   "source": [
    "test_edl_travaux = edl_travaux.copy()"
   ]
  },
  {
   "cell_type": "markdown",
   "id": "d8ab6d46",
   "metadata": {},
   "source": [
    "Drop des colonnes non pertinente: "
   ]
  },
  {
   "cell_type": "code",
   "execution_count": null,
   "id": "92009ddb-3b1f-4af9-a119-33f1310dd49a",
   "metadata": {},
   "outputs": [],
   "source": [
    "test_edl_travaux = test_edl_travaux.drop(['NB_CTRATS_VAC', 'NB_CTRATS_LOC',\n",
    "       'DTD_CTRAT_MIN', 'DTD_CTRAT_MAX',\n",
    "       'MT_FAC_TTC', 'DT_ALIM'], axis=1)\n",
    "test_edl_travaux"
   ]
  },
  {
   "cell_type": "markdown",
   "id": "61ff472a",
   "metadata": {},
   "source": [
    "Pour cette table nous utiliserons CD_PATRIM comme cle de jointure."
   ]
  },
  {
   "cell_type": "markdown",
   "id": "0cb56534",
   "metadata": {},
   "source": [
    "## EDL_sollicitation = sollicitation d'intervention de type 'entretien' ou 'relationnel'"
   ]
  },
  {
   "cell_type": "markdown",
   "id": "1d1b5988",
   "metadata": {},
   "source": [
    "Changement de type sur les colonnes cible:"
   ]
  },
  {
   "cell_type": "code",
   "execution_count": null,
   "id": "4a353d3f",
   "metadata": {},
   "outputs": [],
   "source": [
    "edl_sollicitation['DTD_CTRAT'] = pd.to_datetime(edl_sollicitation['DTD_CTRAT'])\n",
    "edl_sollicitation['DTF_CTRAT'] = pd.to_datetime(edl_sollicitation['DTF_CTRAT'])\n",
    "edl_sollicitation['DT_ALIM'] = pd.to_datetime(edl_sollicitation['DT_ALIM'])\n",
    "edl_sollicitation['DATE AFFAIRE'] = pd.to_datetime(edl_sollicitation['DATE AFFAIRE'])"
   ]
  },
  {
   "cell_type": "markdown",
   "id": "ae92a5f6",
   "metadata": {},
   "source": [
    "Sauvegarde du DataFrame original et création d'un DataFrame de test:"
   ]
  },
  {
   "cell_type": "code",
   "execution_count": null,
   "id": "ff16e6c8",
   "metadata": {},
   "outputs": [],
   "source": [
    "test_sollicitation = edl_sollicitation.copy()"
   ]
  },
  {
   "cell_type": "markdown",
   "id": "f04ffed0",
   "metadata": {},
   "source": [
    "Drop des colonnes non pertinente P1: "
   ]
  },
  {
   "cell_type": "code",
   "execution_count": null,
   "id": "3fd1efbd",
   "metadata": {},
   "outputs": [],
   "source": [
    "test_sollicitation = test_sollicitation.drop(['ID_DOSCLIE','NO_DOSFACT','CD_PATRIM1','CD_PATRIM2','CD_PATRIM3','CD_PATRIM4','CD_QUALIF1','CD_QUALIF2','CD_QUALIF3', 'DTD_CTRAT','DTF_CTRAT','DT_ALIM', 'CD_ETAT_AF'], axis=1)"
   ]
  },
  {
   "cell_type": "markdown",
   "id": "7591eaaf",
   "metadata": {},
   "source": [
    "Drop des colonnes non pertinente P2: "
   ]
  },
  {
   "cell_type": "code",
   "execution_count": null,
   "id": "921d03fb",
   "metadata": {},
   "outputs": [],
   "source": [
    "test_sollicitation = test_sollicitation.drop(['AFFAIRE_ENTRETIEN_ANNULEE', 'AFFAIRE_ENTRETIEN_REFUSEE','AFFAIRE_ENTRETIEN_ENCOURS', 'AFFAIRE_ENTRETIEN_SOLDEE', 'AFFAIRE_RELATIONNELLE_ANNULEE', 'AFFAIRE_RELATIONNELLE_REFUSEE','AFFAIRE_RELATIONNELLE_ENCOURS','AFFAIRE_RELATIONNELLE_SOLDEE','AFFAIRE_AUTRE'], axis=1)"
   ]
  },
  {
   "cell_type": "markdown",
   "id": "823642bc",
   "metadata": {},
   "source": [
    "Creation de la cle de jointure"
   ]
  },
  {
   "cell_type": "code",
   "execution_count": null,
   "id": "f4615dfb",
   "metadata": {},
   "outputs": [],
   "source": [
    "test_sollicitation['cle_jointure'] = test_sollicitation[['CD_PATRIM', 'NO_CTRACLI', 'NO_AFFAIRE']].astype(str).agg('-'.join, axis=1)"
   ]
  },
  {
   "cell_type": "code",
   "execution_count": null,
   "id": "7a8e8621",
   "metadata": {},
   "outputs": [],
   "source": [
    "test_sollicitation"
   ]
  },
  {
   "cell_type": "code",
   "execution_count": null,
   "id": "477ec16b",
   "metadata": {},
   "outputs": [],
   "source": [
    "test_sollicitation['NO_AFFAIRE'] = test_sollicitation['NO_AFFAIRE'].drop_duplicates()"
   ]
  },
  {
   "cell_type": "code",
   "execution_count": null,
   "id": "ae4f060a",
   "metadata": {},
   "outputs": [],
   "source": [
    "test_sollicitation"
   ]
  },
  {
   "cell_type": "code",
   "execution_count": null,
   "id": "c79a8dcc",
   "metadata": {},
   "outputs": [],
   "source": [
    "len(test_sollicitation['NO_AFFAIRE'].dropna())"
   ]
  },
  {
   "cell_type": "markdown",
   "id": "a77aa1e4",
   "metadata": {},
   "source": [
    "## patrimoine_logement"
   ]
  },
  {
   "cell_type": "markdown",
   "id": "b6ea2ac8",
   "metadata": {},
   "source": [
    "## patrimoine_profil"
   ]
  },
  {
   "cell_type": "markdown",
   "id": "ea644476",
   "metadata": {},
   "source": [
    "# Creation de la table intermediaire"
   ]
  },
  {
   "cell_type": "markdown",
   "id": "b43ca615",
   "metadata": {},
   "source": [
    "## table intermediaire"
   ]
  },
  {
   "cell_type": "code",
   "execution_count": null,
   "id": "d1c49d2e",
   "metadata": {},
   "outputs": [],
   "source": [
    "test_sollicitation"
   ]
  },
  {
   "cell_type": "code",
   "execution_count": null,
   "id": "9b11768c",
   "metadata": {},
   "outputs": [],
   "source": [
    "edl_entree_sortie"
   ]
  },
  {
   "cell_type": "code",
   "execution_count": null,
   "id": "01e31c0c",
   "metadata": {},
   "outputs": [],
   "source": [
    "Table1 = test_edl_es['cle_jointure']\n",
    "Table2 = test_sollicitation['NO_AFFAIRE']"
   ]
  },
  {
   "cell_type": "code",
   "execution_count": null,
   "id": "ef786e08",
   "metadata": {},
   "outputs": [],
   "source": [
    "Table_intermediaire = pd.concat([Table1, Table2], axis = 1)"
   ]
  },
  {
   "cell_type": "code",
   "execution_count": null,
   "id": "346dabfe",
   "metadata": {},
   "outputs": [],
   "source": [
    "Table_intermediaire['cle_intermediaire'] = Table_intermediaire[['cle_jointure', 'NO_AFFAIRE']].astype(str).agg('-'.join, axis=1)"
   ]
  },
  {
   "cell_type": "code",
   "execution_count": null,
   "id": "e4fa4177",
   "metadata": {},
   "outputs": [],
   "source": [
    "Table_intermediaire['NO_AFFAIRE'].nunique()"
   ]
  },
  {
   "cell_type": "code",
   "execution_count": null,
   "id": "6554e621",
   "metadata": {},
   "outputs": [],
   "source": [
    "Table_intermediaire['cle_jointure'].isna().sum()"
   ]
  },
  {
   "cell_type": "code",
   "execution_count": null,
   "id": "e6784956",
   "metadata": {},
   "outputs": [],
   "source": [
    "table_intermediaire = Table_intermediaire.dropna()"
   ]
  },
  {
   "cell_type": "code",
   "execution_count": null,
   "id": "65476791",
   "metadata": {},
   "outputs": [],
   "source": [
    "table_intermediaire"
   ]
  },
  {
   "cell_type": "code",
   "execution_count": null,
   "id": "904146f9",
   "metadata": {},
   "outputs": [],
   "source": [
    "table_intermediaire.to_csv('table_intermediaire.csv',index = False) "
   ]
  },
  {
   "cell_type": "code",
   "execution_count": null,
   "id": "3565e489",
   "metadata": {},
   "outputs": [],
   "source": [
    "patrimoine_logement.head()"
   ]
  },
  {
   "cell_type": "code",
   "execution_count": null,
   "id": "dbc5e22d",
   "metadata": {},
   "outputs": [],
   "source": [
    "patrimoine_logement.info()"
   ]
  },
  {
   "cell_type": "code",
   "execution_count": null,
   "id": "4cea3bee",
   "metadata": {},
   "outputs": [],
   "source": [
    "patrimoine_logement.columns"
   ]
  },
  {
   "cell_type": "code",
   "execution_count": null,
   "id": "eae58b6f",
   "metadata": {},
   "outputs": [],
   "source": [
    "patrimoine_profil"
   ]
  },
  {
   "cell_type": "markdown",
   "id": "dd1ce453",
   "metadata": {},
   "source": [
    "# Création des table Profil et Logement"
   ]
  },
  {
   "cell_type": "markdown",
   "id": "6a6b7ce8",
   "metadata": {},
   "source": [
    "## test de merge"
   ]
  },
  {
   "cell_type": "code",
   "execution_count": null,
   "id": "e739fcee",
   "metadata": {},
   "outputs": [],
   "source": [
    "test_edl_enquete"
   ]
  },
  {
   "cell_type": "code",
   "execution_count": null,
   "id": "d381f9c0",
   "metadata": {},
   "outputs": [],
   "source": [
    "edl_entree_sortie"
   ]
  },
  {
   "cell_type": "code",
   "execution_count": null,
   "id": "59dfca04",
   "metadata": {},
   "outputs": [],
   "source": [
    "test_de_merge = edl_entree_sortie.merge(test_edl_enquete, on = 'cle_jointure', how = 'left')"
   ]
  },
  {
   "cell_type": "code",
   "execution_count": null,
   "id": "8ac3ca4c",
   "metadata": {},
   "outputs": [],
   "source": [
    "test_de_merge2 = test_de_merge.merge(test_edl_ost, on = 'cle_jointure', how = 'left')"
   ]
  },
  {
   "cell_type": "code",
   "execution_count": null,
   "id": "3a6b79dc",
   "metadata": {},
   "outputs": [],
   "source": [
    "test_de_merge3 = test_de_merge2.merge(test_edl_travaux, on = 'CD_PATRIM', how = 'left')"
   ]
  },
  {
   "cell_type": "code",
   "execution_count": null,
   "id": "c713fc20",
   "metadata": {},
   "outputs": [],
   "source": [
    "test_de_merge3.columns"
   ]
  },
  {
   "cell_type": "code",
   "execution_count": null,
   "id": "22821502",
   "metadata": {},
   "outputs": [],
   "source": [
    "test_de_merge3.drop(columns = ['CD_PATRIM_y', 'CD_PATRIM', 'NO_CTRACLI', 'PERS PHYSIQUE_MORALE_y'], axis = 1, inplace = True)"
   ]
  },
  {
   "cell_type": "code",
   "execution_count": null,
   "id": "9faa19f6",
   "metadata": {},
   "outputs": [],
   "source": [
    "test_de_merge3"
   ]
  },
  {
   "cell_type": "code",
   "execution_count": null,
   "id": "17326a24",
   "metadata": {},
   "outputs": [],
   "source": [
    "analyse_profil = test_de_merge3.merge(patrimoine_profil, on = 'cle_jointure', how = 'left')"
   ]
  },
  {
   "cell_type": "code",
   "execution_count": null,
   "id": "a416225b",
   "metadata": {},
   "outputs": [],
   "source": [
    "analyse_profil"
   ]
  },
  {
   "cell_type": "code",
   "execution_count": null,
   "id": "c727011d",
   "metadata": {},
   "outputs": [],
   "source": [
    "analyse_logement = test_de_merge3.merge(patrimoine_logement, on = 'cle_jointure', how = 'left')"
   ]
  },
  {
   "cell_type": "code",
   "execution_count": null,
   "id": "98e6d692",
   "metadata": {},
   "outputs": [],
   "source": [
    "analyse_logement"
   ]
  },
  {
   "cell_type": "code",
   "execution_count": null,
   "id": "8e03148d",
   "metadata": {},
   "outputs": [],
   "source": [
    "pyg.walk(analyse_profil)"
   ]
  },
  {
   "cell_type": "code",
   "execution_count": null,
   "id": "e84fb776",
   "metadata": {},
   "outputs": [],
   "source": []
  },
  {
   "cell_type": "markdown",
   "id": "9b1c009d",
   "metadata": {},
   "source": [
    "## analyse_profil"
   ]
  },
  {
   "cell_type": "code",
   "execution_count": null,
   "id": "2ed5915c",
   "metadata": {},
   "outputs": [],
   "source": [
    "analyse_profil.columns"
   ]
  },
  {
   "cell_type": "code",
   "execution_count": null,
   "id": "5725c575",
   "metadata": {},
   "outputs": [],
   "source": [
    "analyse_profil = analyse_profil.drop(columns = ['NO_CTRACLI_y', 'CD_PATRIM'])"
   ]
  },
  {
   "cell_type": "markdown",
   "id": "f1f72833",
   "metadata": {},
   "source": [
    "Re-definition des colonnes cible:"
   ]
  },
  {
   "cell_type": "code",
   "execution_count": null,
   "id": "f9afcbd2",
   "metadata": {},
   "outputs": [],
   "source": [
    "analyse_profil.rename(columns = {'cle_primaire' : 'id_logement', 'CD_PATRIM_x' : 'CD_PATRIM', 'NO_CTRACLI_x' : 'NO_CTRACLI', 'PERS PHYSIQUE_MORALE_x' : 'PERS PHYSIQUE_MORALE'}, inplace = True)"
   ]
  },
  {
   "cell_type": "code",
   "execution_count": null,
   "id": "d64b0f63",
   "metadata": {},
   "outputs": [],
   "source": [
    "analyse_profil.columns"
   ]
  },
  {
   "cell_type": "code",
   "execution_count": null,
   "id": "8fea39f7",
   "metadata": {},
   "outputs": [],
   "source": [
    "analyse_profil = analyse_profil.reindex(['id_logement', 'cle_jointure', 'CD_PATRIM', 'NO_CTRACLI', 'DTD_CTRAT', 'DTF_CTRAT',\n",
    "       'CD_TYPEDL_ENT', 'CD_TYPEDL_SOR', 'LB_NOTSANT_ENT', 'LB_NOTSANT_SOR',\n",
    "       'PERS PHYSIQUE_MORALE', 'CPT_PENALITE RETARD_SLS_EOS',\n",
    "       'MT_CPT_PENALITE RETARD_SLS_EOS', 'CPT_OST', 'NB_CTRATS', 'NB_FACTURES',\n",
    "       'MT_FAC_HT', 'TYPOLOGIE', 'CATEG PLAFOND LOYER', 'LB_DEPT',\n",
    "       'ZZ_LB_TY_CNV', 'MT_LOYER', 'MT_TOTRUB',\n",
    "       'MT FACTURE AU LOCATAIRE (MT_INDEMREEL)', 'MT_FA_PRO', 'MT_FA_REC',\n",
    "       'DUREE OCCUPATION MM', 'DUREE OCCUPATION AA', 'CD_PHYMOR',\n",
    "       'ON_DALO_ENTREE', 'MT_PLAFOND_ENTREE', 'MT_RESSOU_ENTREE', 'NOM_AIDENT',\n",
    "       'LB_SITFAM_ACTUEL', 'OST_ACTUEL', 'NB_OCCUPAN_ACTUEL',\n",
    "       'NB_ENFANT _ACTUEL', 'AN_TOTREVI_ACTUEL', 'MT_TOTREVI_ACTUEL',\n",
    "       'ON_FAMMONO_ACTUEL', 'ON_JEUMENA_ACTUEL', 'MT_SOLDLOY_ACTUEL',\n",
    "       'MT_SOLD_DG_ACTUEL', 'NB_SIT_1000', 'NB_SIT_9180', 'NB_SIT_4500',\n",
    "       'NB_SIT_8200', 'NB_TYPSIT_Expulsion', 'NB_TYPSIT_Information',\n",
    "       'NB_TYPSIT_Contentieux', 'NB_TYPSIT_Action_sociale',\n",
    "       'MT_SOLD_LOY_A_FIN_CONTRAT', 'NB_ECHRES_A_FIN_CONTRAT',\n",
    "       'DATE_PREM_IMPAYE', 'MT_SOLD_DEB_PREM_IMPAYE',\n",
    "       'PLAGE AGE DETTE_PREM_IMPAYE'], axis = 1)"
   ]
  },
  {
   "cell_type": "code",
   "execution_count": null,
   "id": "ccbf4d99",
   "metadata": {},
   "outputs": [],
   "source": [
    "analyse_profil.info()"
   ]
  },
  {
   "cell_type": "code",
   "execution_count": null,
   "id": "162692aa",
   "metadata": {},
   "outputs": [],
   "source": [
    "analyse_profil.isna"
   ]
  },
  {
   "cell_type": "code",
   "execution_count": null,
   "id": "86df68db",
   "metadata": {},
   "outputs": [],
   "source": [
    "analyse_profil['NB_OCCUPAN_ACTUEL'].astype('Int64')\n",
    "analyse_profil['NB_ENFANT _ACTUEL'].astype('Int64')\n",
    "analyse_profil['NB_SIT_1000'].astype('Int64')\n",
    "analyse_profil['NB_SIT_9180'].astype('Int64')\n",
    "analyse_profil['NB_SIT_4500'].astype('Int64')\n",
    "analyse_profil['NB_SIT_8200'].astype('Int64')\n",
    "analyse_profil['NB_TYPSIT_Expulsion'].astype('Int64')\n",
    "analyse_profil['NB_TYPSIT_Information'].astype('Int64')\n",
    "analyse_profil['NB_TYPSIT_Contentieux'].astype('Int64')\n",
    "analyse_profil['NB_TYPSIT_Action_sociale'].astype('Int64')\n",
    "analyse_profil['NB_TYPSIT_Action_sociale'].astype('Int64')"
   ]
  },
  {
   "cell_type": "code",
   "execution_count": null,
   "id": "6a83faea",
   "metadata": {},
   "outputs": [],
   "source": [
    "#analyse_profil.to_csv('analyse_profil.csv', index = False)"
   ]
  },
  {
   "cell_type": "code",
   "execution_count": null,
   "id": "4391e765",
   "metadata": {},
   "outputs": [],
   "source": [
    "analyse_profil['LB_SITFAM_ACTUEL'].value_counts()"
   ]
  },
  {
   "cell_type": "markdown",
   "id": "d3f93965",
   "metadata": {},
   "source": [
    "## analyse_logement"
   ]
  },
  {
   "cell_type": "code",
   "execution_count": null,
   "id": "2a2861e3",
   "metadata": {},
   "outputs": [],
   "source": [
    "analyse_logement.head()"
   ]
  },
  {
   "cell_type": "code",
   "execution_count": null,
   "id": "f5158b21",
   "metadata": {},
   "outputs": [],
   "source": [
    "analyse_logement.columns"
   ]
  },
  {
   "cell_type": "code",
   "execution_count": null,
   "id": "aaf824df",
   "metadata": {},
   "outputs": [],
   "source": [
    "analyse_logement.drop(columns = ['NO_CTRACLI_y', 'CD_PATRIM'], inplace = True)"
   ]
  },
  {
   "cell_type": "code",
   "execution_count": null,
   "id": "11a0978f",
   "metadata": {},
   "outputs": [],
   "source": [
    "analyse_logement.rename(columns = {'cle_primaire' : 'id_logement', 'CD_PATRIM_x' : 'CD_PATRIM', 'NO_CTRACLI_x' : 'NO_CTRACLI', 'PERS PHYSIQUE_MORALE_x' : 'PERS PHYSIQUE_MORALE'}, inplace = True)"
   ]
  },
  {
   "cell_type": "code",
   "execution_count": null,
   "id": "55c2349b",
   "metadata": {},
   "outputs": [],
   "source": [
    "analyse_logement.columns"
   ]
  },
  {
   "cell_type": "code",
   "execution_count": null,
   "id": "e6f8acfc",
   "metadata": {},
   "outputs": [],
   "source": [
    "analyse_logement = analyse_logement.reindex(['id_logement', 'cle_jointure', 'CD_PATRIM', 'NO_CTRACLI', 'DTD_CTRAT', 'DTF_CTRAT',\n",
    "       'CD_TYPEDL_ENT', 'CD_TYPEDL_SOR', 'LB_NOTSANT_ENT', 'LB_NOTSANT_SOR',\n",
    "       'PERS PHYSIQUE_MORALE', 'CPT_PENALITE RETARD_SLS_EOS',\n",
    "       'MT_CPT_PENALITE RETARD_SLS_EOS', 'CPT_OST', 'NB_CTRATS', 'NB_FACTURES',\n",
    "       'MT_FAC_HT', 'ON_ZONTEND', 'ZZ_AGEBAT_EDL', 'TYPOLOGIE', 'LB_DEPT',\n",
    "       'ZZ_LB_TYCONSTR', 'ZZ_LB_TY_CNV', 'MT_TOTRUB', 'SURF_HAB', 'NO_EDL',\n",
    "       'MT_FA_REC', 'DUREE OCCUPATION MM', 'DUREE OCCUPATION AA', 'CD_PHYMOR',\n",
    "       'NB_PERCHA_ENTREE', 'ZZ_AGE_CL_ENTREE', 'ON_SEULE_ENTREE',\n",
    "       'ON_DALO_ENTREE', 'LB_CTRATYP', 'NOM_AIDENT', 'OST_ACTUEL',\n",
    "       'NB_OCCUPAN_ACTUEL', 'NB_ENFANT _ACTUEL', 'ON_FAMMONO_ACTUEL',\n",
    "       'ON_JEUMENA_ACTUEL'], axis = 1)"
   ]
  },
  {
   "cell_type": "code",
   "execution_count": null,
   "id": "06df0daf",
   "metadata": {},
   "outputs": [],
   "source": [
    "analyse_logement.head()"
   ]
  },
  {
   "cell_type": "code",
   "execution_count": null,
   "id": "3a2a01e6",
   "metadata": {},
   "outputs": [],
   "source": [
    "analyse_logement.info()"
   ]
  },
  {
   "cell_type": "code",
   "execution_count": null,
   "id": "93144b41",
   "metadata": {},
   "outputs": [],
   "source": []
  },
  {
   "cell_type": "markdown",
   "id": "a226cec1",
   "metadata": {},
   "source": [
    "# Feature engineering "
   ]
  },
  {
   "cell_type": "markdown",
   "id": "b50231d0",
   "metadata": {},
   "source": [
    "## Analyse logement (mise en place de la note de santé)"
   ]
  },
  {
   "cell_type": "markdown",
   "id": "737f28c7",
   "metadata": {},
   "source": [
    "### Affichage du DataFrame:"
   ]
  },
  {
   "cell_type": "code",
   "execution_count": null,
   "id": "33918a9a",
   "metadata": {},
   "outputs": [],
   "source": [
    "analyse_logement.head()"
   ]
  },
  {
   "cell_type": "markdown",
   "id": "1553c958",
   "metadata": {},
   "source": [
    "### Sauvegarde du DataFrame original:"
   ]
  },
  {
   "cell_type": "code",
   "execution_count": null,
   "id": "81f5c2a3",
   "metadata": {},
   "outputs": [],
   "source": [
    "test_analyse_logement = analyse_logement.copy()"
   ]
  },
  {
   "cell_type": "markdown",
   "id": "2f3656bb",
   "metadata": {},
   "source": [
    "### Mise en place de la note globale:"
   ]
  },
  {
   "cell_type": "code",
   "execution_count": null,
   "id": "3919deb0",
   "metadata": {},
   "outputs": [],
   "source": [
    "test_analyse_logement['etat_de_sante'] = test_analyse_logement['LB_NOTSANT_SOR'] - test_analyse_logement['LB_NOTSANT_ENT']"
   ]
  },
  {
   "cell_type": "code",
   "execution_count": null,
   "id": "cd9ea131",
   "metadata": {},
   "outputs": [],
   "source": [
    "test_analyse_logement['etat_de_sante'].describe()"
   ]
  },
  {
   "cell_type": "markdown",
   "id": "e388b93b",
   "metadata": {},
   "source": [
    "### Mise en place du barem"
   ]
  },
  {
   "cell_type": "code",
   "execution_count": null,
   "id": "fadab135",
   "metadata": {},
   "outputs": [],
   "source": [
    "def palier_sante(x):\n",
    "        if x == 0:\n",
    "            return 'A'\n",
    "        elif x > 0:\n",
    "            return 'A+'\n",
    "        elif 0 > x >= -100:\n",
    "            return 'B'\n",
    "        elif -100 > x >= -400:\n",
    "            return 'C'\n",
    "        else:\n",
    "            return 'D'"
   ]
  },
  {
   "cell_type": "code",
   "execution_count": null,
   "id": "9d3717f0",
   "metadata": {},
   "outputs": [],
   "source": [
    "test_analyse_logement['separateur_sante'] = test_analyse_logement['etat_de_sante'].apply(palier_sante)"
   ]
  },
  {
   "cell_type": "code",
   "execution_count": null,
   "id": "99f6041f",
   "metadata": {},
   "outputs": [],
   "source": [
    "test_analyse_logement.columns"
   ]
  },
  {
   "cell_type": "code",
   "execution_count": null,
   "id": "14d55e10",
   "metadata": {},
   "outputs": [],
   "source": [
    "test_analyse_logement['OST_ACTUEL'].fillna(0, inplace = True)"
   ]
  },
  {
   "cell_type": "code",
   "execution_count": null,
   "id": "852d3be5",
   "metadata": {},
   "outputs": [],
   "source": [
    "test_analyse_logement['OST_ACTUEL'] = test_analyse_logement['OST_ACTUEL'].replace(to_replace='OST', value=1)"
   ]
  },
  {
   "cell_type": "code",
   "execution_count": null,
   "id": "73f2731d",
   "metadata": {},
   "outputs": [],
   "source": [
    "test_analyse_logement['OST_ACTUEL'] = test_analyse_logement['OST_ACTUEL'].astype('int64')"
   ]
  },
  {
   "cell_type": "code",
   "execution_count": null,
   "id": "18939deb",
   "metadata": {},
   "outputs": [],
   "source": [
    "test_analyse_logement['OST_ACTUEL'].unique()"
   ]
  },
  {
   "cell_type": "code",
   "execution_count": null,
   "id": "202ef0a2",
   "metadata": {},
   "outputs": [],
   "source": [
    "piedata = test_analyse_logement.groupby(['OST_ACTUEL'])['etat_de_sante'].mean()\n",
    "piedata"
   ]
  },
  {
   "cell_type": "code",
   "execution_count": null,
   "id": "99fd15eb",
   "metadata": {},
   "outputs": [],
   "source": [
    "test_analyse_logement['separateur_sante'].unique()"
   ]
  },
  {
   "cell_type": "markdown",
   "id": "b85c2257",
   "metadata": {},
   "source": [
    "### export du DataFrame en CSV:"
   ]
  },
  {
   "cell_type": "code",
   "execution_count": null,
   "id": "2f65ba3e",
   "metadata": {},
   "outputs": [],
   "source": [
    "# test_analyse_logement.to_csv('analyse_logement.csv', index = False)"
   ]
  },
  {
   "cell_type": "markdown",
   "id": "4a5cec8b",
   "metadata": {},
   "source": [
    "Affichage du DataFrame final:"
   ]
  },
  {
   "cell_type": "code",
   "execution_count": null,
   "id": "cf896141",
   "metadata": {},
   "outputs": [],
   "source": [
    "test_analyse_logement"
   ]
  },
  {
   "cell_type": "markdown",
   "id": "04eec28e",
   "metadata": {},
   "source": [
    "## Analyse_profil (mise en place du coefficient)"
   ]
  },
  {
   "cell_type": "markdown",
   "id": "8b4f3ab8",
   "metadata": {},
   "source": [
    "### Mise en place du DataFrame de test:"
   ]
  },
  {
   "cell_type": "code",
   "execution_count": null,
   "id": "9a878f60",
   "metadata": {},
   "outputs": [],
   "source": [
    "analyse_profil.columns"
   ]
  },
  {
   "cell_type": "code",
   "execution_count": null,
   "id": "f09060ee",
   "metadata": {},
   "outputs": [],
   "source": [
    "test_analyse_profil = analyse_profil[['id_logement', 'OST_ACTUEL', 'NB_OCCUPAN_ACTUEL', 'LB_SITFAM_ACTUEL', 'ON_DALO_ENTREE', 'CPT_PENALITE RETARD_SLS_EOS','NB_SIT_1000', 'NB_SIT_9180', 'NB_SIT_4500', 'NB_SIT_8200']]"
   ]
  },
  {
   "cell_type": "markdown",
   "id": "815a57d2",
   "metadata": {},
   "source": [
    "### Remplacement des Nan par des 0:"
   ]
  },
  {
   "cell_type": "code",
   "execution_count": null,
   "id": "0249f3ce",
   "metadata": {},
   "outputs": [],
   "source": [
    "test_analyse_profil['OST_ACTUEL'].fillna(0, inplace = True)"
   ]
  },
  {
   "cell_type": "markdown",
   "id": "98c14e4d",
   "metadata": {},
   "source": [
    "### Remplacement OST par 1 et changement du type:"
   ]
  },
  {
   "cell_type": "code",
   "execution_count": null,
   "id": "fe7ddbf8",
   "metadata": {},
   "outputs": [],
   "source": [
    "test_analyse_profil['OST_ACTUEL'] = test_analyse_profil['OST_ACTUEL'].replace(to_replace='OST', value=1)"
   ]
  },
  {
   "cell_type": "code",
   "execution_count": null,
   "id": "d9879e21",
   "metadata": {},
   "outputs": [],
   "source": [
    "test_analyse_profil['OST_ACTUEL'] = test_analyse_profil['OST_ACTUEL'].astype('int64')"
   ]
  },
  {
   "cell_type": "code",
   "execution_count": null,
   "id": "311df90f",
   "metadata": {},
   "outputs": [],
   "source": [
    "test_analyse_profil.info()"
   ]
  },
  {
   "cell_type": "code",
   "execution_count": null,
   "id": "15c24fb6",
   "metadata": {},
   "outputs": [],
   "source": [
    "analyse_profil['CPT_OST'].value_counts()"
   ]
  },
  {
   "cell_type": "code",
   "execution_count": null,
   "id": "44cac3ba",
   "metadata": {},
   "outputs": [],
   "source": [
    "test_analyse_profil['OST_ACTUEL'].value_counts()"
   ]
  },
  {
   "cell_type": "markdown",
   "id": "086486ec",
   "metadata": {},
   "source": [
    "### Mise en place du barem:"
   ]
  },
  {
   "cell_type": "code",
   "execution_count": null,
   "id": "68ea7938",
   "metadata": {},
   "outputs": [],
   "source": [
    "test_analyse_profil['val_ost'] = test_analyse_profil['OST_ACTUEL'] * 3"
   ]
  },
  {
   "cell_type": "code",
   "execution_count": null,
   "id": "98bfa619",
   "metadata": {},
   "outputs": [],
   "source": [
    "one_hot = pd.get_dummies(test_analyse_profil['LB_SITFAM_ACTUEL'])\n"
   ]
  },
  {
   "cell_type": "code",
   "execution_count": null,
   "id": "c3fb9319",
   "metadata": {},
   "outputs": [],
   "source": [
    "pd.concat([test_analyse_profil['LB_SITFAM_ACTUEL'], one_hot], axis=1)"
   ]
  },
  {
   "cell_type": "code",
   "execution_count": null,
   "id": "4f393fbd",
   "metadata": {},
   "outputs": [],
   "source": [
    "test_analyse_profil[['sit_fam','val_celib', 'val_concubinage', 'val_divorce', 'val_marie(e)', 'val_pacse', 'val_pm', 'val_separe', 'val_veuf']] = pd.concat([test_analyse_profil['LB_SITFAM_ACTUEL'], one_hot], axis=1)"
   ]
  },
  {
   "cell_type": "code",
   "execution_count": null,
   "id": "95518207",
   "metadata": {},
   "outputs": [],
   "source": [
    "test_analyse_profil['CPT_PENALITE RETARD_SLS_EOS'] = test_analyse_profil['CPT_PENALITE RETARD_SLS_EOS'].astype('Int64')"
   ]
  },
  {
   "cell_type": "code",
   "execution_count": null,
   "id": "187b0603",
   "metadata": {},
   "outputs": [],
   "source": [
    "test_analyse_profil['CPT_PENALITE RETARD_SLS_EOS'] = test_analyse_profil['CPT_PENALITE RETARD_SLS_EOS'].fillna(0)"
   ]
  },
  {
   "cell_type": "code",
   "execution_count": null,
   "id": "13841339",
   "metadata": {},
   "outputs": [],
   "source": [
    "test_analyse_profil.info()"
   ]
  },
  {
   "cell_type": "code",
   "execution_count": null,
   "id": "972e4cc8",
   "metadata": {},
   "outputs": [],
   "source": [
    "def val_pnt_rtd(x):\n",
    "        if x == 0:\n",
    "            return 0\n",
    "        elif 1 <= x <= 2:\n",
    "            return 1\n",
    "        elif 2 < x < 5:\n",
    "            return 2\n",
    "        elif 5 <= x < 11:\n",
    "            return 3\n",
    "        else:\n",
    "            return 4"
   ]
  },
  {
   "cell_type": "code",
   "execution_count": null,
   "id": "da413fa6",
   "metadata": {},
   "outputs": [],
   "source": [
    "test_analyse_profil['val_ptn_rtd'] = test_analyse_profil['CPT_PENALITE RETARD_SLS_EOS'].apply(val_pnt_rtd)"
   ]
  },
  {
   "cell_type": "code",
   "execution_count": null,
   "id": "1e12ad41",
   "metadata": {},
   "outputs": [],
   "source": [
    "test_analyse_profil['ON_DALO_ENTREE'] = test_analyse_profil['ON_DALO_ENTREE'].replace({'N': 0, 'O': 1})"
   ]
  },
  {
   "cell_type": "code",
   "execution_count": null,
   "id": "1fa70b78",
   "metadata": {},
   "outputs": [],
   "source": [
    "test_analyse_profil['ON_DALO_ENTREE'] = test_analyse_profil['ON_DALO_ENTREE'].astype('Int64')"
   ]
  },
  {
   "cell_type": "code",
   "execution_count": null,
   "id": "93d89716",
   "metadata": {},
   "outputs": [],
   "source": [
    "test_analyse_profil['val_dalo'] = test_analyse_profil['ON_DALO_ENTREE'] * 1.5"
   ]
  },
  {
   "cell_type": "code",
   "execution_count": null,
   "id": "c66d2fd2",
   "metadata": {},
   "outputs": [],
   "source": [
    "test_analyse_profil['val_dalo'] = test_analyse_profil['val_dalo'].astype('Int64')"
   ]
  },
  {
   "cell_type": "code",
   "execution_count": null,
   "id": "6ab4bfc9",
   "metadata": {},
   "outputs": [],
   "source": [
    "def bareme_occupants(x): \n",
    "    if x <2: \n",
    "        return 1\n",
    "    elif 2<= x <4: \n",
    "        return 1.5\n",
    "    else:\n",
    "        return 2"
   ]
  },
  {
   "cell_type": "code",
   "execution_count": null,
   "id": "e9bec29d",
   "metadata": {},
   "outputs": [],
   "source": [
    "test_analyse_profil['bareme_occupants'] = test_analyse_profil['NB_OCCUPAN_ACTUEL'].apply(bareme_occupants)"
   ]
  },
  {
   "cell_type": "code",
   "execution_count": null,
   "id": "2d05bc0b",
   "metadata": {},
   "outputs": [],
   "source": [
    "test_analyse_profil['bareme_occupants'] = test_analyse_profil['bareme_occupants'].astype('int64')"
   ]
  },
  {
   "cell_type": "code",
   "execution_count": null,
   "id": "93b08cce",
   "metadata": {},
   "outputs": [],
   "source": [
    "test_analyse_profil[['NB_SIT_1000', 'NB_SIT_9180', 'NB_SIT_4500', 'NB_SIT_8200']] = test_analyse_profil[['NB_SIT_1000', 'NB_SIT_9180', 'NB_SIT_4500', 'NB_SIT_8200']].astype('Int64')"
   ]
  },
  {
   "cell_type": "code",
   "execution_count": null,
   "id": "1b9d84a5",
   "metadata": {},
   "outputs": [],
   "source": [
    "test_analyse_profil['val_sit_1000'] = test_analyse_profil['NB_SIT_1000']"
   ]
  },
  {
   "cell_type": "code",
   "execution_count": null,
   "id": "c83d8442",
   "metadata": {},
   "outputs": [],
   "source": [
    "test_analyse_profil['val_sit_9180'] = test_analyse_profil['NB_SIT_9180'] * 3"
   ]
  },
  {
   "cell_type": "code",
   "execution_count": null,
   "id": "f8ad427a",
   "metadata": {},
   "outputs": [],
   "source": [
    "test_analyse_profil['val_sit_4500'] = test_analyse_profil['NB_SIT_4500'] * 4"
   ]
  },
  {
   "cell_type": "code",
   "execution_count": null,
   "id": "1b768682",
   "metadata": {},
   "outputs": [],
   "source": [
    "test_analyse_profil['val_sit_8200'] = test_analyse_profil['NB_SIT_8200'] * 2"
   ]
  },
  {
   "cell_type": "code",
   "execution_count": null,
   "id": "6652f59a",
   "metadata": {},
   "outputs": [],
   "source": [
    "test_analyse_profil.columns"
   ]
  },
  {
   "cell_type": "code",
   "execution_count": null,
   "id": "951c48df",
   "metadata": {},
   "outputs": [],
   "source": [
    "test_analyse_profil[['val_celib', 'val_concubinage', 'val_divorce', 'val_marie(e)', 'val_pacse', 'val_pm', 'val_separe', 'val_veuf']] = test_analyse_profil[[\n",
    "       'val_celib', 'val_concubinage', 'val_divorce', 'val_marie(e)',\n",
    "       'val_pacse', 'val_pm', 'val_separe', 'val_veuf']].astype('Int64')"
   ]
  },
  {
   "cell_type": "code",
   "execution_count": null,
   "id": "7379a9f4",
   "metadata": {},
   "outputs": [],
   "source": [
    "test_analyse_profil['etat_de_profil'] = test_analyse_profil['val_ost'] + test_analyse_profil['val_celib'] + test_analyse_profil['val_concubinage'] + test_analyse_profil['val_divorce'] + test_analyse_profil['val_marie(e)'] + test_analyse_profil['val_pacse'] + test_analyse_profil['val_pm'] + test_analyse_profil['val_separe'] + test_analyse_profil['val_veuf'] + test_analyse_profil['val_ptn_rtd'] + test_analyse_profil['val_dalo'] + test_analyse_profil['bareme_occupants'] + test_analyse_profil['val_sit_1000'] + test_analyse_profil['val_sit_9180'] + test_analyse_profil['val_sit_4500'] + test_analyse_profil['val_sit_8200']"
   ]
  },
  {
   "cell_type": "code",
   "execution_count": null,
   "id": "34a41b99",
   "metadata": {},
   "outputs": [],
   "source": [
    "test_analyse_profil_final = test_analyse_profil"
   ]
  },
  {
   "cell_type": "code",
   "execution_count": null,
   "id": "052af111",
   "metadata": {},
   "outputs": [],
   "source": [
    "test_analyse_profil_final.drop(columns = ['val_ost', 'sit_fam',\n",
    "       'val_celib', 'val_concubinage', 'val_divorce', 'val_marie(e)',\n",
    "       'val_pacse', 'val_pm', 'val_separe', 'val_veuf', 'val_ptn_rtd',\n",
    "       'val_dalo', 'bareme_occupants', 'val_sit_1000', 'val_sit_9180',\n",
    "       'val_sit_4500', 'val_sit_8200'], axis = 1, inplace=True)"
   ]
  },
  {
   "cell_type": "code",
   "execution_count": null,
   "id": "bdc0751b",
   "metadata": {},
   "outputs": [],
   "source": [
    "test_analyse_profil_final"
   ]
  },
  {
   "cell_type": "markdown",
   "id": "224c2a2a",
   "metadata": {},
   "source": [
    "### Jointure avec le DataFrame originale:"
   ]
  },
  {
   "cell_type": "code",
   "execution_count": null,
   "id": "10bc2da8",
   "metadata": {},
   "outputs": [],
   "source": [
    "analyse_profil = analyse_profil.merge(test_analyse_profil, on = 'id_logement', how = 'left')"
   ]
  },
  {
   "cell_type": "code",
   "execution_count": null,
   "id": "25beaee0",
   "metadata": {},
   "outputs": [],
   "source": [
    "analyse_profil['etat_de_sante'] = analyse_profil['LB_NOTSANT_SOR'] - analyse_profil['LB_NOTSANT_ENT']"
   ]
  },
  {
   "cell_type": "markdown",
   "id": "50b13785",
   "metadata": {},
   "source": [
    "### Mise en place de la note santé:"
   ]
  },
  {
   "cell_type": "code",
   "execution_count": null,
   "id": "67a03b9d",
   "metadata": {},
   "outputs": [],
   "source": [
    "def palier_sante(x):\n",
    "        if x == 0:\n",
    "            return 'A'\n",
    "        elif x > 0:\n",
    "            return 'A+'\n",
    "        elif 0 > x >= -100:\n",
    "            return 'B'\n",
    "        elif -100 > x >= -400:\n",
    "            return 'C'\n",
    "        else:\n",
    "            return 'D'"
   ]
  },
  {
   "cell_type": "code",
   "execution_count": null,
   "id": "a7547316",
   "metadata": {},
   "outputs": [],
   "source": [
    "analyse_profil['separateur_sante'] = analyse_profil['etat_de_sante'].apply(palier_sante)"
   ]
  },
  {
   "cell_type": "code",
   "execution_count": null,
   "id": "16368335",
   "metadata": {},
   "outputs": [],
   "source": [
    "analyse_profil.drop(columns = ['OST_ACTUEL_y',\n",
    "       'NB_OCCUPAN_ACTUEL_y', 'LB_SITFAM_ACTUEL_y', 'ON_DALO_ENTREE_y',\n",
    "       'CPT_PENALITE RETARD_SLS_EOS_y', 'NB_SIT_1000_y', 'NB_SIT_9180_y',\n",
    "       'NB_SIT_4500_y', 'NB_SIT_8200_y'], axis=1, inplace = True)"
   ]
  },
  {
   "cell_type": "code",
   "execution_count": null,
   "id": "a1944bd5",
   "metadata": {},
   "outputs": [],
   "source": [
    "analyse_profil['etat_de_profil'].value_counts()"
   ]
  },
  {
   "cell_type": "code",
   "execution_count": null,
   "id": "e9e25e3c",
   "metadata": {},
   "outputs": [],
   "source": [
    "analyse_profil['etat_de_profil'].describe()"
   ]
  },
  {
   "cell_type": "markdown",
   "id": "c82de934",
   "metadata": {},
   "source": [
    "### Définition du profil a risque:"
   ]
  },
  {
   "cell_type": "code",
   "execution_count": null,
   "id": "4699eda7",
   "metadata": {},
   "outputs": [],
   "source": [
    "def palier_profil(x):\n",
    "        if pd.isna(x):\n",
    "            return np.nan\n",
    "        elif x <= 3:\n",
    "            return 'Très_Faible'\n",
    "        elif 4 <= x <= 5:\n",
    "            return 'Faible'\n",
    "        elif 6 <= x <= 15:\n",
    "            return 'Moyen'\n",
    "        elif 16 <= x <= 30:\n",
    "            return 'Elevé'\n",
    "        else:\n",
    "            return 'Très_Elevé'"
   ]
  },
  {
   "cell_type": "code",
   "execution_count": null,
   "id": "7bd1a9cd",
   "metadata": {},
   "outputs": [],
   "source": [
    "analyse_profil['profil_a_risque'] = analyse_profil['etat_de_profil'].apply(palier_profil)"
   ]
  },
  {
   "cell_type": "code",
   "execution_count": null,
   "id": "b492f453",
   "metadata": {},
   "outputs": [],
   "source": [
    "analyse_profil['profil_a_risque'].value_counts()"
   ]
  },
  {
   "cell_type": "markdown",
   "id": "7eace956",
   "metadata": {},
   "source": [
    "### Test de correlation avec le separateur sante et le profil a risque:"
   ]
  },
  {
   "cell_type": "code",
   "execution_count": null,
   "id": "77ac7787",
   "metadata": {},
   "outputs": [],
   "source": [
    "analyse_profil.columns"
   ]
  },
  {
   "cell_type": "code",
   "execution_count": null,
   "id": "13d3d1e6",
   "metadata": {},
   "outputs": [],
   "source": [
    "heatmap_test = analyse_profil[['separateur_sante', 'profil_a_risque']]"
   ]
  },
  {
   "cell_type": "code",
   "execution_count": null,
   "id": "db5c4f70",
   "metadata": {},
   "outputs": [],
   "source": [
    "heatmap_test['separateur_sante'].replace({'A+' : 1, 'A' : 2, 'B' : 3, 'C' : 4, 'D' : 5}, inplace = True)"
   ]
  },
  {
   "cell_type": "code",
   "execution_count": null,
   "id": "a5aefe48",
   "metadata": {},
   "outputs": [],
   "source": [
    "heatmap_test['profil_a_risque'].replace({'Très_Faible' : 1, 'Faible' : 2, 'Moyen' : 3, 'Elevé' : 4, 'Très_Elevé' : 5}, inplace = True)"
   ]
  },
  {
   "cell_type": "code",
   "execution_count": null,
   "id": "5516a70e",
   "metadata": {},
   "outputs": [],
   "source": [
    "corrmat = heatmap_test.corr()"
   ]
  },
  {
   "cell_type": "code",
   "execution_count": null,
   "id": "9f6e148a",
   "metadata": {},
   "outputs": [],
   "source": [
    "sns.heatmap(corrmat, annot = True)"
   ]
  },
  {
   "cell_type": "markdown",
   "id": "831999c8",
   "metadata": {},
   "source": [
    "### Analyse de correlation possible:"
   ]
  },
  {
   "cell_type": "code",
   "execution_count": null,
   "id": "77f08bd5",
   "metadata": {},
   "outputs": [],
   "source": [
    "test_Nico_amour = pd.DataFrame(analyse_profil.groupby(['separateur_sante','profil_a_risque'])['profil_a_risque'].count())"
   ]
  },
  {
   "cell_type": "code",
   "execution_count": null,
   "id": "6619b395",
   "metadata": {},
   "outputs": [],
   "source": [
    "test_Nico_amour"
   ]
  },
  {
   "cell_type": "code",
   "execution_count": null,
   "id": "f353dd3a",
   "metadata": {},
   "outputs": [],
   "source": [
    "analyse_profil.loc[analyse_profil['profil_a_risque'] == 'Très_Faible']"
   ]
  },
  {
   "cell_type": "code",
   "execution_count": null,
   "id": "7bf2371b",
   "metadata": {},
   "outputs": [],
   "source": [
    "test_Fanny_amour = pd.DataFrame(analyse_profil.groupby(['CD_TYPEDL_SOR','profil_a_risque'])['profil_a_risque'].count())"
   ]
  },
  {
   "cell_type": "code",
   "execution_count": null,
   "id": "ab07bd03",
   "metadata": {},
   "outputs": [],
   "source": [
    "test_Fanny_amour"
   ]
  },
  {
   "cell_type": "code",
   "execution_count": null,
   "id": "9bd0af12",
   "metadata": {},
   "outputs": [],
   "source": [
    "analyse_profil"
   ]
  },
  {
   "cell_type": "code",
   "execution_count": null,
   "id": "2fe8dc5e",
   "metadata": {},
   "outputs": [],
   "source": [
    "test_Jessica_amour = pd.DataFrame(analyse_profil.groupby(['MT_FA_REC'])['MT_FA_REC'].count())"
   ]
  },
  {
   "cell_type": "code",
   "execution_count": null,
   "id": "6158830d",
   "metadata": {},
   "outputs": [],
   "source": [
    "test_Jessica_amour"
   ]
  },
  {
   "cell_type": "code",
   "execution_count": null,
   "id": "cf7adc1b",
   "metadata": {},
   "outputs": [],
   "source": [
    "test_Thibault_amour = pd.DataFrame(analyse_profil.groupby(['MT_FA_REC', 'separateur_sante', 'profil_a_risque'])['profil_a_risque'].count())"
   ]
  },
  {
   "cell_type": "code",
   "execution_count": null,
   "id": "7d6ca215",
   "metadata": {},
   "outputs": [],
   "source": [
    "test_Thibault_amour"
   ]
  },
  {
   "cell_type": "code",
   "execution_count": null,
   "id": "2364fffa",
   "metadata": {},
   "outputs": [],
   "source": [
    "test_Thibault_amour2 = pd.DataFrame(analyse_profil.groupby('NB_OCCUPAN_ACTUEL_x').agg(es=('etat_de_sante', 'mean'), co=('NB_OCCUPAN_ACTUEL_x', 'count')).reset_index())"
   ]
  },
  {
   "cell_type": "code",
   "execution_count": null,
   "id": "a423d40e",
   "metadata": {},
   "outputs": [],
   "source": [
    "test_Thibault_amour2"
   ]
  },
  {
   "cell_type": "code",
   "execution_count": null,
   "id": "08bb4b91",
   "metadata": {},
   "outputs": [],
   "source": [
    "test_Thibault_amour3 = pd.DataFrame(analyse_profil.groupby('DUREE OCCUPATION AA').agg(es=('etat_de_sante', 'mean'), co=('DUREE OCCUPATION AA', 'count')).reset_index())"
   ]
  },
  {
   "cell_type": "code",
   "execution_count": null,
   "id": "15873b36",
   "metadata": {},
   "outputs": [],
   "source": [
    "test_Thibault_amour3"
   ]
  },
  {
   "cell_type": "code",
   "execution_count": null,
   "id": "4f8bcdc5",
   "metadata": {},
   "outputs": [],
   "source": [
    "df_temp= analyse_profil.groupby('NB_OCCUPAN_ACTUEL_x').agg( moyenne_es=('etat_de_sante', 'mean'), count_nb=('NB_OCCUPAN_ACTUEL_x', 'count') ).reset_index()\n",
    "moyenne_generale = analyse_profil['etat_de_sante'].mean()\n",
    "df_temp['ecart_en_pourcentage'] = ( (df_temp['moyenne_es'] - moyenne_generale) / moyenne_generale * 100)\n",
    "df_temp"
   ]
  },
  {
   "cell_type": "code",
   "execution_count": null,
   "id": "73907725",
   "metadata": {},
   "outputs": [],
   "source": [
    "moyenne_generale"
   ]
  },
  {
   "cell_type": "code",
   "execution_count": null,
   "id": "7d20f21d",
   "metadata": {},
   "outputs": [],
   "source": [
    "df_temp= analyse_profil.groupby('NB_OCCUPAN_ACTUEL_x').agg( moyenne_es=('etat_de_sante', 'mean'), count_nb=('NB_OCCUPAN_ACTUEL_x', 'count') ).reset_index()\n",
    "df_temp = df_temp.sort_values(by = 'NB_OCCUPAN_ACTUEL_x')\n",
    "df_temp['ecart_en_pourcentage'] = df_temp['moyenne_es'].pct_change()*100\n",
    "df_temp"
   ]
  },
  {
   "cell_type": "code",
   "execution_count": null,
   "id": "fc509a62",
   "metadata": {},
   "outputs": [],
   "source": [
    "df_temp_2= analyse_profil.groupby('DUREE OCCUPATION AA').agg( moyenne_es_2=('etat_de_sante', 'mean'), count_nb_2=('DUREE OCCUPATION AA', 'count') ).reset_index()\n",
    "df_temp_2 = df_temp_2.sort_values(by = 'DUREE OCCUPATION AA')\n",
    "df_temp_2['ecart_en_pourcentage'] = df_temp_2['moyenne_es_2'].pct_change()*100\n",
    "df_temp_2"
   ]
  },
  {
   "cell_type": "code",
   "execution_count": null,
   "id": "ceeb7ec7",
   "metadata": {},
   "outputs": [],
   "source": [
    "dt = pd.DataFrame(analyse_profil[analyse_profil['MT_FA_REC']!=0].describe())"
   ]
  },
  {
   "cell_type": "code",
   "execution_count": null,
   "id": "2e657fbf",
   "metadata": {},
   "outputs": [],
   "source": [
    "dt['MT_FA_REC']"
   ]
  },
  {
   "cell_type": "code",
   "execution_count": null,
   "id": "3f3ac525",
   "metadata": {},
   "outputs": [],
   "source": [
    "analyse_finale = test_analyse_logement.merge(analyse_profil[['id_logement','profil_a_risque', 'MT_SOLD_LOY_A_FIN_CONTRAT','NB_ECHRES_A_FIN_CONTRAT', 'DATE_PREM_IMPAYE','MT_SOLD_DEB_PREM_IMPAYE', 'PLAGE AGE DETTE_PREM_IMPAYE', 'LB_SITFAM_ACTUEL_x']], on = 'id_logement', how = 'left')"
   ]
  },
  {
   "cell_type": "code",
   "execution_count": null,
   "id": "647a8188",
   "metadata": {},
   "outputs": [],
   "source": [
    "analyse_profil.columns"
   ]
  },
  {
   "cell_type": "code",
   "execution_count": null,
   "id": "7110d752",
   "metadata": {},
   "outputs": [],
   "source": [
    "analyse_finale.columns"
   ]
  },
  {
   "cell_type": "code",
   "execution_count": null,
   "id": "010ac0eb",
   "metadata": {},
   "outputs": [],
   "source": [
    "# analyse_finale.to_csv('analyse_finale.csv', index = False)"
   ]
  },
  {
   "cell_type": "markdown",
   "id": "65d0ea9d",
   "metadata": {},
   "source": [
    "# Machine Learning"
   ]
  },
  {
   "cell_type": "markdown",
   "id": "9191f356",
   "metadata": {},
   "source": [
    "## ML Logement"
   ]
  },
  {
   "cell_type": "code",
   "execution_count": null,
   "id": "5418e790",
   "metadata": {},
   "outputs": [],
   "source": [
    "test_ML = pd.read_csv(r\"C:\\Users\\thiba\\Documents\\Projet_Final\\ML\\analyse_finaleml.csv\")"
   ]
  },
  {
   "cell_type": "code",
   "execution_count": null,
   "id": "e70cb229",
   "metadata": {},
   "outputs": [],
   "source": [
    "'CPT_OST','ON_ZONTEND', 'ON_DALO_ENTREE', 'LB_CTRATYP', 'SURF_HAB', 'TYPOLOGIE','ON_SEULE_ENTREE'"
   ]
  },
  {
   "cell_type": "code",
   "execution_count": null,
   "id": "a2abca7d",
   "metadata": {},
   "outputs": [],
   "source": [
    "df = test_ML.dropna(subset=['PERS PHYSIQUE_MORALE'])\n",
    "colonne_to_drop = ['id_logement', 'cle_jointure', 'CD_PATRIM','DTD_CTRAT','DTF_CTRAT','CD_TYPEDL_ENT','CD_TYPEDL_SOR', 'NB_CTRATS', 'NB_FACTURES', 'MT_FAC_HT','LB_DEPT',\n",
    "'ZZ_LB_TYCONSTR','ZZ_LB_TY_CNV','MT_TOTRUB', 'NO_EDL', 'MT_FA_REC', 'CD_PHYMOR', 'ZZ_AGE_CL_ENTREE', 'NOM_AIDENT', 'separateur_sante',\n",
    "'MT_SOLD_LOY_A_FIN_CONTRAT','NB_ECHRES_A_FIN_CONTRAT','DATE_PREM_IMPAYE','MT_SOLD_DEB_PREM_IMPAYE','PLAGE AGE DETTE_PREM_IMPAYE', 'etat_de_sante', 'DUREE OCCUPATION MM', 'DUREE OCCUPATION AA', 'CPT_OST']\n",
    "df = df.drop(colonne_to_drop, axis=1)\n",
    "df = df.drop(columns='NB_PERCHA_ENTREE', axis=1)\n",
    "df = df.dropna(subset=['LB_SITFAM_ACTUEL_x'])\n",
    "df = df.dropna(subset=['profil_a_risque'])\n",
    "df = df.dropna(subset=['etat_de_profil'])\n",
    "df = df.drop(columns='PERS PHYSIQUE_MORALE', axis=1)\n",
    "df['LB_SITFAM_ACTUEL_x'].unique()\n",
    "df_temp = pd.get_dummies(df, columns=['LB_SITFAM_ACTUEL_x'])\n",
    "df_temp = pd.get_dummies(df_temp, columns=['ON_FAMMONO_ACTUEL'])\n",
    "df_temp = pd.get_dummies(df_temp, columns=['ON_JEUMENA_ACTUEL'])\n",
    "df_temp = pd.get_dummies(df_temp, columns=['profil_a_risque'])\n",
    "df_temp = pd.get_dummies(df_temp, columns=['ON_ZONTEND'])\n",
    "df_temp = pd.get_dummies(df_temp, columns=['ON_DALO_ENTREE'])\n",
    "df_temp = pd.get_dummies(df_temp, columns=['LB_CTRATYP'])\n",
    "df_temp = pd.get_dummies(df_temp, columns=['TYPOLOGIE'])\n",
    "df_temp = pd.get_dummies(df_temp, columns=['ON_SEULE_ENTREE'])\n",
    "df_temp = pd.get_dummies(df_temp, columns=['OST_ACTUEL'])\n",
    "df_temp.info()"
   ]
  },
  {
   "cell_type": "code",
   "execution_count": null,
   "id": "73fafa31",
   "metadata": {},
   "outputs": [],
   "source": [
    "df_temp['LB_NOTSANT_SOR'].mean()"
   ]
  },
  {
   "cell_type": "code",
   "execution_count": null,
   "id": "cff9111d",
   "metadata": {},
   "outputs": [],
   "source": [
    "# Préparer les données : convertir toutes les colonnes en type numérique si possible\n",
    "df_numeric = df_temp.apply(pd.to_numeric, errors='coerce')\n",
    "# Calculer la matrice de corrélation\n",
    "corr_matrix = df_numeric.corr()\n",
    "# Configurer la taille de la figure pour la heatmap\n",
    "plt.figure(figsize=(12, 10))\n",
    "# Générer la heatmap avec seaborn\n",
    "sns.heatmap(corr_matrix, annot=True, cmap='coolwarm', fmt=\".2f\", linewidths=0.5)\n",
    "# Ajouter le titre\n",
    "plt.title('Heatmap des corrélations du DataFrame', fontsize=16)\n",
    "# Afficher la heatmap\n",
    "plt.show()"
   ]
  },
  {
   "cell_type": "code",
   "execution_count": null,
   "id": "e5442f72",
   "metadata": {},
   "outputs": [],
   "source": [
    "# Division des données en ensembles d'entraînement et de test\n",
    "X = df_temp.drop('LB_NOTSANT_SOR', axis=1)\n",
    "y = df_temp['LB_NOTSANT_SOR']\n",
    "X_train, X_test, y_train, y_test = train_test_split(X, y, test_size=0.2, random_state=42)\n",
    "\n",
    "# Modèle de forêt aléatoire initial\n",
    "rf_model = RandomForestRegressor(n_estimators=100, random_state=42)\n",
    "rf_model.fit(X_train, y_train)\n",
    "\n",
    "# Importance des caractéristiques\n",
    "importances = rf_model.feature_importances_\n",
    "indices = np.argsort(importances)[::-1]\n",
    "\n",
    "# Sélection des caractéristiques les plus importantes\n",
    "sfm = SelectFromModel(rf_model, threshold=0.01)\n",
    "sfm.fit(X_train, y_train)\n",
    "\n",
    "X_train_important = sfm.transform(X_train)\n",
    "X_test_important = sfm.transform(X_test)\n",
    "\n",
    "# Nouvelle recherche de grille avec les caractéristiques importantes\n",
    "param_grid = {\n",
    "    'n_estimators': [100, 200, 300, 400, 500],\n",
    "    'max_depth': [10, 20, 30, None],\n",
    "    'min_samples_split': [2, 5, 10],\n",
    "    'min_samples_leaf': [1, 2, 4]\n",
    "}\n",
    "\n",
    "grid_search = GridSearchCV(estimator=rf_model, param_grid=param_grid, cv=5, n_jobs=-1, verbose=2)\n",
    "grid_search.fit(X_train_important, y_train)\n",
    "print(\"Best parameters found:\", grid_search.best_params_)\n",
    "\n",
    "# Modèle avec les meilleurs paramètres\n",
    "best_rf_model = grid_search.best_estimator_\n",
    "y_pred_best = best_rf_model.predict(X_test_important)\n",
    "mse_best = mean_squared_error(y_test, y_pred_best, squared=False)\n",
    "r2_best = r2_score(y_test, y_pred_best)\n",
    "print(f\"Best Model - Mean Squared Error (MSE): {mse_best}\")\n",
    "print(f\"Best Model - R-squared (R2): {r2_best}\")\n",
    "\n",
    "# Appliquer le modèle optimisé au dataset de base\n",
    "df_temp['Predictions'] = best_rf_model.predict(sfm.transform(df_temp[X.columns]))\n",
    "print(df_temp[['LB_NOTSANT_SOR', 'Predictions']])\n"
   ]
  },
  {
   "cell_type": "code",
   "execution_count": null,
   "id": "3f9f3a75",
   "metadata": {},
   "outputs": [],
   "source": [
    "pct_erreur = (mse_best / df_temp['LB_NOTSANT_SOR'].mean())*100\n",
    "print(f\"Le pourcentage d'erreur de notre modéle est de : {pct_erreur} %\")"
   ]
  },
  {
   "cell_type": "markdown",
   "id": "4dca723f",
   "metadata": {},
   "source": [
    "## ML Profil"
   ]
  },
  {
   "cell_type": "code",
   "execution_count": null,
   "id": "0ff9b5ed",
   "metadata": {},
   "outputs": [],
   "source": [
    "ML_profil = pd.read_csv(r\"C:\\Users\\thiba\\Documents\\Projet_Final\\VS Code\\analyse_profil.csv\")"
   ]
  },
  {
   "cell_type": "code",
   "execution_count": null,
   "id": "380a1864",
   "metadata": {},
   "outputs": [],
   "source": [
    "analysefinale = pd.read_csv(r\"C:\\Users\\thiba\\Documents\\Projet_Final\\ML\\analyse_finaleml.csv\")"
   ]
  },
  {
   "cell_type": "code",
   "execution_count": null,
   "id": "9da95617",
   "metadata": {},
   "outputs": [],
   "source": [
    "ML_profil = ML_profil.merge(analysefinale[['profil_a_risque', 'etat_de_profil', 'cle_jointure']], on='cle_jointure', how='left')"
   ]
  },
  {
   "cell_type": "code",
   "execution_count": null,
   "id": "4bd96148",
   "metadata": {},
   "outputs": [],
   "source": [
    "ML_profil.info()"
   ]
  },
  {
   "cell_type": "code",
   "execution_count": null,
   "id": "3c857d5e",
   "metadata": {},
   "outputs": [],
   "source": [
    "ML_profil.columns"
   ]
  },
  {
   "cell_type": "code",
   "execution_count": null,
   "id": "fe7e28ff",
   "metadata": {},
   "outputs": [],
   "source": [
    "df_profil = ML_profil\n",
    "colonne_to_drop_1 = ['id_logement', 'cle_jointure', 'CD_PATRIM','DTD_CTRAT',  'PERS PHYSIQUE_MORALE',\n",
    "       'DTF_CTRAT', 'MT_CPT_PENALITE RETARD_SLS_EOS', 'CPT_OST', 'NB_CTRATS', 'NB_FACTURES',\n",
    "       'MT_FAC_HT', 'TYPOLOGIE', 'CATEG PLAFOND LOYER', 'LB_DEPT',\n",
    "       'ZZ_LB_TY_CNV','MT_TOTRUB',\n",
    "       'MT FACTURE AU LOCATAIRE (MT_INDEMREEL)', 'MT_FA_PRO', 'CD_PHYMOR',  'MT_PLAFOND_ENTREE', 'MT_RESSOU_ENTREE', 'NOM_AIDENT', 'AN_TOTREVI_ACTUEL', 'MT_TOTREVI_ACTUEL',\n",
    "       'MT_SOLDLOY_ACTUEL',\n",
    "       'MT_SOLD_DG_ACTUEL', 'NB_ECHRES_A_FIN_CONTRAT',\n",
    "       'DATE_PREM_IMPAYE', 'MT_SOLD_DEB_PREM_IMPAYE',\n",
    "       'PLAGE AGE DETTE_PREM_IMPAYE', 'profil_a_risque']\n",
    "df_profil = df_profil.drop(colonne_to_drop_1, axis=1)"
   ]
  },
  {
   "cell_type": "code",
   "execution_count": null,
   "id": "1f6af049",
   "metadata": {},
   "outputs": [],
   "source": [
    "df_profil['OST_ACTUEL'].replace({np.nan : False, 'OST' : True}, inplace=True)\n",
    "df_profil['CPT_PENALITE RETARD_SLS_EOS'].replace({np.nan : 0}, inplace=True)"
   ]
  },
  {
   "cell_type": "code",
   "execution_count": null,
   "id": "63d6a4d5",
   "metadata": {},
   "outputs": [],
   "source": [
    "df_profil.dropna(inplace=True)"
   ]
  },
  {
   "cell_type": "code",
   "execution_count": null,
   "id": "125edb74",
   "metadata": {},
   "outputs": [],
   "source": [
    "df_profil['OST_ACTUEL'].unique()"
   ]
  },
  {
   "cell_type": "code",
   "execution_count": null,
   "id": "e86cb752",
   "metadata": {},
   "outputs": [],
   "source": [
    "df_profil.info()"
   ]
  },
  {
   "cell_type": "code",
   "execution_count": null,
   "id": "a28a4b40",
   "metadata": {},
   "outputs": [],
   "source": [
    "df_profil['MT_SOLD_LOY_A_FIN_CONTRAT'].replace(',', '.', regex=True, inplace=True)"
   ]
  },
  {
   "cell_type": "code",
   "execution_count": null,
   "id": "b4125fa2",
   "metadata": {},
   "outputs": [],
   "source": [
    "df_profil['MT_SOLD_LOY_A_FIN_CONTRAT'] = df_profil['MT_SOLD_LOY_A_FIN_CONTRAT'].astype('float64')"
   ]
  },
  {
   "cell_type": "code",
   "execution_count": null,
   "id": "f4f0a88a",
   "metadata": {},
   "outputs": [],
   "source": [
    "df_profil_temp = pd.get_dummies(df_profil, columns=['CD_TYPEDL_ENT'])\n",
    "df_profil_temp = pd.get_dummies(df_profil_temp, columns=['CD_TYPEDL_SOR'])\n",
    "df_profil_temp = pd.get_dummies(df_profil_temp, columns=['ON_DALO_ENTREE'])\n",
    "df_profil_temp = pd.get_dummies(df_profil_temp, columns=['ON_FAMMONO_ACTUEL'])\n",
    "df_profil_temp = pd.get_dummies(df_profil_temp, columns=['ON_JEUMENA_ACTUEL'])\n",
    "df_profil_temp = pd.get_dummies(df_profil_temp, columns=['OST_ACTUEL'])\n",
    "df_profil_temp = pd.get_dummies(df_profil_temp, columns=['LB_SITFAM_ACTUEL'])\n",
    "df_profil_temp.info()"
   ]
  },
  {
   "cell_type": "code",
   "execution_count": null,
   "id": "56b6d33c",
   "metadata": {},
   "outputs": [],
   "source": [
    "# Préparer les données : convertir toutes les colonnes en type numérique si possible\n",
    "df_numeric_profil = df_profil_temp.apply(pd.to_numeric, errors='coerce')\n",
    "# Calculer la matrice de corrélation\n",
    "corr_matrix_profil = df_numeric_profil.corr()\n",
    "# Configurer la taille de la figure pour la heatmap\n",
    "plt.figure(figsize=(12, 10))\n",
    "# Générer la heatmap avec seaborn\n",
    "sns.heatmap(corr_matrix_profil, annot=True, cmap='coolwarm', fmt=\".2f\", linewidths=0.5)\n",
    "# Ajouter le titre\n",
    "plt.title('Heatmap des corrélations du DataFrame', fontsize=16)\n",
    "# Afficher la heatmap\n",
    "plt.show()"
   ]
  },
  {
   "cell_type": "code",
   "execution_count": null,
   "id": "9b7ab2d4",
   "metadata": {},
   "outputs": [],
   "source": [
    "# Division des données en ensembles d'entraînement et de test\n",
    "X = df_profil_temp.drop('etat_de_profil', axis=1)\n",
    "y = df_profil_temp['etat_de_profil']\n",
    "X_train, X_test, y_train, y_test = train_test_split(X, y, test_size=0.2, random_state=42)\n",
    "\n",
    "# Modèle de forêt aléatoire initial\n",
    "rf_model = RandomForestRegressor(n_estimators=100, random_state=42)\n",
    "rf_model.fit(X_train, y_train)\n",
    "\n",
    "# Importance des caractéristiques\n",
    "importances = rf_model.feature_importances_\n",
    "indices = np.argsort(importances)[::-1]\n",
    "\n",
    "# Sélection des caractéristiques les plus importantes\n",
    "sfm = SelectFromModel(rf_model, threshold=0.01)\n",
    "sfm.fit(X_train, y_train)\n",
    "\n",
    "X_train_important = sfm.transform(X_train)\n",
    "X_test_important = sfm.transform(X_test)\n",
    "\n",
    "# Nouvelle recherche de grille avec les caractéristiques importantes\n",
    "param_grid = {\n",
    "    'n_estimators': [100, 200, 300, 400, 500],\n",
    "    'max_depth': [10, 20, 30, None],\n",
    "    'min_samples_split': [2, 5, 10],\n",
    "    'min_samples_leaf': [1, 2, 4]\n",
    "}\n",
    "\n",
    "grid_search = GridSearchCV(estimator=rf_model, param_grid=param_grid, cv=5, n_jobs=-1, verbose=2)\n",
    "grid_search.fit(X_train_important, y_train)\n",
    "print(\"Best parameters found:\", grid_search.best_params_)\n",
    "\n",
    "# Modèle avec les meilleurs paramètres\n",
    "best_rf_model = grid_search.best_estimator_\n",
    "y_pred_best = best_rf_model.predict(X_test_important)\n",
    "r_mse_best = mean_squared_error(y_test, y_pred_best, squared=False)\n",
    "r2_best = r2_score(y_test, y_pred_best)\n",
    "print(f\"Best Model - Mean Squared Error (MSE): {r_mse_best}\")\n",
    "print(f\"Best Model - R-squared (R2): {r2_best}\")\n",
    "\n",
    "# Appliquer le modèle optimisé au dataset de base\n",
    "df_profil_temp['Predictions'] = best_rf_model.predict(sfm.transform(df_profil_temp[X.columns]))\n",
    "print(df_profil_temp[['etat_de_profil', 'Predictions']])"
   ]
  },
  {
   "cell_type": "code",
   "execution_count": null,
   "id": "ecd55b3f",
   "metadata": {},
   "outputs": [],
   "source": [
    "df_profil_temp['etat_de_profil'].mean()"
   ]
  },
  {
   "cell_type": "code",
   "execution_count": null,
   "id": "4480b420",
   "metadata": {},
   "outputs": [],
   "source": [
    "pct_erreur = (r_mse_best / df_profil_temp['etat_de_profil'].mean())*100\n",
    "print(f\"Le pourcentage d'erreur de notre modéle est de : {pct_erreur} %\")"
   ]
  }
 ],
 "metadata": {
  "kernelspec": {
   "display_name": "Python 3 (ipykernel)",
   "language": "python",
   "name": "python3"
  },
  "language_info": {
   "codemirror_mode": {
    "name": "ipython",
    "version": 3
   },
   "file_extension": ".py",
   "mimetype": "text/x-python",
   "name": "python",
   "nbconvert_exporter": "python",
   "pygments_lexer": "ipython3",
   "version": "3.11.7"
  },
  "widgets": {
   "application/vnd.jupyter.widget-state+json": {
    "state": {},
    "version_major": 2,
    "version_minor": 0
   }
  }
 },
 "nbformat": 4,
 "nbformat_minor": 5
}
